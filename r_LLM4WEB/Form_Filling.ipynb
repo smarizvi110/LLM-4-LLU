{
  "nbformat": 4,
  "nbformat_minor": 0,
  "metadata": {
    "colab": {
      "provenance": []
    },
    "kernelspec": {
      "name": "python3",
      "display_name": "Python 3"
    },
    "language_info": {
      "name": "python"
    }
  },
  "cells": [
    {
      "cell_type": "markdown",
      "source": [
        "# Automating Google Form Filling with Selenium and GPT-4\n",
        "\n",
        "## Introduction\n",
        "This notebook demonstrates how to automate the process of filling out Google Forms using Python, Selenium, and OpenAI's GPT-4. We can easily integrate this into our existing Chatbot as well.\n",
        "\n",
        "The automation script uses Selenium to detect the required fields in a Google Form and then communicates with GPT-4 to generate appropriate input data for these fields. By leveraging GPT-4, we can dynamically construct responses based on the specific form structure, making this approach adaptable and scalable for various forms.\n",
        "\n",
        "The main objectives of this notebook are:\n",
        "1. To detect required fields from a Google Form dynamically.\n",
        "2. To construct form responses using GPT-4 based on the detected fields.\n",
        "3. To automatically fill the form using Selenium and submit the responses.\n",
        "\n",
        "**Prerequisites**: Ensure you have Python, Selenium, and OpenAI libraries installed, along with a valid OpenAI API key. Additionally, download the appropriate WebDriver for your browser to interact with the form."
      ],
      "metadata": {
        "id": "4b8wE5kxyECJ"
      }
    },
    {
      "cell_type": "markdown",
      "source": [
        "# Install Necessary Libraries\n",
        "\n",
        "First, install the necessary Python libraries: `selenium` and `openai`.\n",
        "\n",
        "You can do this by executing the following pip commands:"
      ],
      "metadata": {
        "id": "SUkXOJdIyBXv"
      }
    },
    {
      "cell_type": "code",
      "source": [
        "# Install Selenium\n",
        "!pip install selenium\n",
        "!apt-get update\n",
        "!apt-get install chromium chromium-driver\n",
        "\n",
        "# Install OpenAI\n",
        "!pip install openai\n"
      ],
      "metadata": {
        "id": "O8L84vJbxIcB"
      },
      "execution_count": null,
      "outputs": []
    },
    {
      "cell_type": "code",
      "source": [
        "!ls /usr/lib/chromium-browser/"
      ],
      "metadata": {
        "colab": {
          "base_uri": "https://localhost:8080/"
        },
        "id": "W4tP-Ir0VOVn",
        "outputId": "36a1b066-d6c3-4238-c4f7-0020258d528d"
      },
      "execution_count": 3,
      "outputs": [
        {
          "output_type": "stream",
          "name": "stdout",
          "text": [
            "chromedriver\n"
          ]
        }
      ]
    },
    {
      "cell_type": "code",
      "source": [
        "def web_driver():\n",
        "    options = webdriver.ChromeOptions()\n",
        "    options.add_argument(\"--verbose\")\n",
        "    options.add_argument('--no-sandbox')\n",
        "    options.add_argument('--headless')\n",
        "    options.add_argument('--disable-gpu')\n",
        "    options.add_argument(\"--window-size=1920, 1200\")\n",
        "    options.add_argument('--disable-dev-shm-usage')\n",
        "    driver = webdriver.Chrome(options=options)\n",
        "    return driver"
      ],
      "metadata": {
        "id": "P1gFza3x5h_2"
      },
      "execution_count": 14,
      "outputs": []
    },
    {
      "cell_type": "markdown",
      "source": [
        "# Import Libraries\n",
        "\n",
        "We import necessary libraries to interact with the Google Form and to communicate with OpenAI's LLM."
      ],
      "metadata": {
        "id": "mqcLTik8xOxE"
      }
    },
    {
      "cell_type": "code",
      "source": [
        "import openai\n",
        "from time import sleep\n",
        "\n",
        "from selenium import webdriver\n",
        "from selenium.webdriver.chrome.options import Options\n",
        "from selenium.webdriver.common.by import By\n",
        "from selenium.webdriver.support.ui import WebDriverWait\n",
        "from selenium.webdriver.support import expected_conditions as EC\n",
        "\n",
        "driver = web_driver()"
      ],
      "metadata": {
        "id": "PLm7MCpTxRWd"
      },
      "execution_count": 36,
      "outputs": []
    },
    {
      "cell_type": "markdown",
      "source": [
        "## API Keys"
      ],
      "metadata": {
        "id": "j9kmuqc-selQ"
      }
    },
    {
      "cell_type": "code",
      "source": [
        "# Configure your API keys here\n",
        "OPENAI_API_KEY = ''"
      ],
      "metadata": {
        "id": "Xgzqpj4AshBD"
      },
      "execution_count": 20,
      "outputs": []
    },
    {
      "cell_type": "markdown",
      "source": [
        "# Function to Detect Required Form Fields\n",
        "\n",
        "We write a function to detect the required fields in a Google Form. The function returns a list of tuples containing the XPath and field type.\n"
      ],
      "metadata": {
        "id": "H8MZ97urxWko"
      }
    },
    {
      "cell_type": "code",
      "source": [
        "def get_required_fields(form_url):\n",
        "    driver = web_driver()\n",
        "    required_fields = []\n",
        "\n",
        "    try:\n",
        "        driver.get(form_url)\n",
        "        driver.get(form_url)\n",
        "        sleep(5)  # To allow page to fully load\n",
        "\n",
        "        input_elements = WebDriverWait(driver, 20).until(\n",
        "            EC.presence_of_all_elements_located(\n",
        "                (By.XPATH, \"//input[@aria-required='true'] | //textarea[@aria-required='true']\")\n",
        "            )\n",
        "        )\n",
        "\n",
        "        print(input_elements)\n",
        "\n",
        "        for element in input_elements:\n",
        "            aria_label = element.get_attribute('aria-label')\n",
        "            role = element.get_attribute('role')\n",
        "            xpath = f\"//div[@aria-label='{aria_label}']\"\n",
        "\n",
        "            if 'Required' in aria_label:\n",
        "                required_fields.append((xpath, 'radio' if role == 'radio' else 'text'))\n",
        "\n",
        "    finally:\n",
        "        driver.quit()\n",
        "\n",
        "    return required_fields\n"
      ],
      "metadata": {
        "id": "Lv3KYwW_xbt6"
      },
      "execution_count": 42,
      "outputs": []
    },
    {
      "cell_type": "markdown",
      "source": [
        "# Function to Get Form Data from LLM\n",
        "\n",
        "This function sends a prompt to the LLM and returns the parsed response, which is a dictionary containing field XPaths and corresponding input data.\n"
      ],
      "metadata": {
        "id": "ANj8c-c5xcg-"
      }
    },
    {
      "cell_type": "code",
      "source": [
        "def get_form_data_from_llm(prompt):\n",
        "    \"\"\"\n",
        "    Args:\n",
        "        prompt (str): The prompt to pass to the LLM.\n",
        "    \"\"\"\n",
        "    client = openai.OpenAI(\n",
        "        api_key=OPENAI_API_KEY\n",
        "    )\n",
        "\n",
        "    # Construct the conversation\n",
        "    messages = [\n",
        "        {\"role\": \"system\", \"content\": \"You are a helpful assistant.\"},\n",
        "        {\"role\": \"user\", \"content\": prompt}\n",
        "    ]\n",
        "\n",
        "    # Create a completion\n",
        "    response = client.chat.completions.create(\n",
        "        model=\"gpt-3.5-turbo\",\n",
        "        messages=messages\n",
        "    )\n",
        "\n",
        "    # Extract the last response from the model\n",
        "    generated_text = response['choices'][0]['message']['content'].strip()\n",
        "    return eval(generated_text)  # Caution: Be aware of security risks with eval\n"
      ],
      "metadata": {
        "id": "pmi0G6llxjaw"
      },
      "execution_count": 31,
      "outputs": []
    },
    {
      "cell_type": "markdown",
      "source": [
        "# Function to Fill Google Form\n",
        "\n",
        "This function receives the form data and uses Selenium to fill out the Google Form automatically."
      ],
      "metadata": {
        "id": "aUkqsvvDxmE2"
      }
    },
    {
      "cell_type": "code",
      "source": [
        "def fill_google_form(form_url, form_data):\n",
        "    driver = web_driver()\n",
        "\n",
        "    try:\n",
        "        driver.get(form_url)\n",
        "        sleep(5)  # To allow page to fully load\n",
        "\n",
        "        wait = WebDriverWait(driver, 20)\n",
        "\n",
        "        for field_xpath, value in form_data.items():\n",
        "            field_element = wait.until(EC.presence_of_element_located((By.XPATH, field_xpath)))\n",
        "            if field_element.get_attribute('role') == 'radio':\n",
        "                field_element.click()\n",
        "            else:\n",
        "                field_element.send_keys(value)\n",
        "\n",
        "        submit_button_xpath = '//span[contains(text(), \"Submit\")]'\n",
        "        submit_button = wait.until(EC.element_to_be_clickable((By.XPATH, submit_button_xpath)))\n",
        "        submit_button.click()\n",
        "\n",
        "    finally:\n",
        "        driver.quit()\n"
      ],
      "metadata": {
        "id": "PgtsEn63x2kA"
      },
      "execution_count": 38,
      "outputs": []
    },
    {
      "cell_type": "markdown",
      "source": [
        "## Function to Automate Google Form Filling\n",
        "\n",
        "Automates the process of detecting required fields in a Google Form, generating data with an LLM, and filling the form."
      ],
      "metadata": {
        "id": "RADIjlBxrumu"
      }
    },
    {
      "cell_type": "code",
      "source": [
        "def automate_google_form_filling(form_url):\n",
        "    \"\"\"\n",
        "    Args:\n",
        "        form_url (str): The URL of the Google Form.\n",
        "        webdriver_path (str): Path to the WebDriver executable.\n",
        "    \"\"\"\n",
        "    # Detect required fields\n",
        "    required_fields = get_required_fields(form_url)\n",
        "\n",
        "    # Construct the prompt for the LLM\n",
        "    prompt = \"Generate a dictionary in Python format where keys are XPaths and values are input data:\\n\"\n",
        "    for xpath, field_type in required_fields:\n",
        "        prompt += f\"{xpath}: \"\n",
        "\n",
        "    # Generate form data using the LLM\n",
        "    form_data = get_form_data_from_llm(prompt)\n",
        "\n",
        "    # Fill the Google Form with the generated data\n",
        "    fill_google_form(form_url, form_data)\n"
      ],
      "metadata": {
        "id": "gcEm4SqervBp"
      },
      "execution_count": 33,
      "outputs": []
    },
    {
      "cell_type": "markdown",
      "source": [
        "# Main Function to Execute the Process\n",
        "\n",
        "In this section, we execute the entire process of detecting required fields, constructing data with LLM, and filling the Google Form."
      ],
      "metadata": {
        "id": "7fxDmgf-x53y"
      }
    },
    {
      "cell_type": "code",
      "source": [
        "form_url = ''\n",
        "automate_google_form_filling(form_url)"
      ],
      "metadata": {
        "id": "m1PhGvAgx7TS"
      },
      "execution_count": 44,
      "outputs": []
    }
  ]
}
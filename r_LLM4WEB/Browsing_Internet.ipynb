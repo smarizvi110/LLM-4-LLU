{
  "nbformat": 4,
  "nbformat_minor": 0,
  "metadata": {
    "colab": {
      "provenance": []
    },
    "kernelspec": {
      "name": "python3",
      "display_name": "Python 3"
    },
    "language_info": {
      "name": "python"
    }
  },
  "cells": [
    {
      "cell_type": "markdown",
      "source": [
        "# Summarizing DuckDuckGo Search Results Using GPT-4\n",
        "\n",
        "This notebook demonstrates how to fetch search results from DuckDuckGo and use OpenAI's GPT-4 to generate a summary.\n",
        "\n",
        "\n"
      ],
      "metadata": {
        "id": "sEV4MJFivGE7"
      }
    },
    {
      "cell_type": "markdown",
      "source": [
        "## Setting up the Environment"
      ],
      "metadata": {
        "id": "j3OlLkyrdo0a"
      }
    },
    {
      "cell_type": "code",
      "source": [
        "!pip install openai requests playwright\n",
        "!playwright install"
      ],
      "metadata": {
        "id": "wgf3vtDXdtBq"
      },
      "execution_count": null,
      "outputs": []
    },
    {
      "cell_type": "markdown",
      "source": [
        "## Imports"
      ],
      "metadata": {
        "id": "kRLWSlAKctQU"
      }
    },
    {
      "cell_type": "code",
      "source": [
        "import openai\n",
        "import requests\n",
        "\n",
        "from bs4 import BeautifulSoup\n",
        "from playwright.async_api import async_playwright"
      ],
      "metadata": {
        "id": "B4MsN8g-vE8V"
      },
      "execution_count": 52,
      "outputs": []
    },
    {
      "cell_type": "markdown",
      "source": [
        "## API Keys"
      ],
      "metadata": {
        "id": "jWXgKdBZc_0L"
      }
    },
    {
      "cell_type": "code",
      "source": [
        "# Configure your API keys here\n",
        "OPENAI_API_KEY = ''\n",
        "RAPID_API_KEY = ''"
      ],
      "metadata": {
        "id": "KqayRS39dBsX"
      },
      "execution_count": 60,
      "outputs": []
    },
    {
      "cell_type": "markdown",
      "source": [
        "## Function Definition\n",
        "\n",
        "The function `duckduckgo_search` requires only a search query as input. The API keys are configured within the script to simplify usage."
      ],
      "metadata": {
        "id": "EXHhEparvU1c"
      }
    },
    {
      "cell_type": "code",
      "execution_count": 77,
      "metadata": {
        "id": "OArirhoIhEAR"
      },
      "outputs": [],
      "source": [
        "def duckduckgo_search(query):\n",
        "\n",
        "    # Set OpenAI API key\n",
        "    from openai import OpenAI\n",
        "    client = OpenAI(\n",
        "        api_key=OPENAI_API_KEY\n",
        "    )\n",
        "\n",
        "    # Define the DuckDuckGo API endpoint and parameters\n",
        "    url = \"https://duckduckgo-duckduckgo-zero-click-info.p.rapidapi.com/\"\n",
        "    querystring = {\n",
        "        \"q\": query,\n",
        "        \"no_html\": \"1\",\n",
        "        \"no_redirect\": \"1\",\n",
        "        \"skip_disambig\": \"1\",\n",
        "        \"format\": \"json\"\n",
        "    }\n",
        "\n",
        "    # Set the API headers\n",
        "    headers = {\n",
        "        \"X-RapidAPI-Key\": RAPID_API_KEY,\n",
        "        \"X-RapidAPI-Host\": \"duckduckgo-duckduckgo-zero-click-info.p.rapidapi.com\"\n",
        "    }\n",
        "\n",
        "    # Get search results from DuckDuckGo\n",
        "    response = requests.get(url, headers=headers, params=querystring)\n",
        "    search_data = response.json()\n",
        "\n",
        "    # Prepare the prompt for GPT-4\n",
        "    prompt = f\"\"\"\n",
        "    Here is some search result data for '{query}':\n",
        "    {search_data}\n",
        "\n",
        "    Summarize the key findings and insights from this data.\n",
        "    \"\"\"\n",
        "\n",
        "    print(prompt)\n",
        "\n",
        "\n",
        "    completion = client.chat.completions.create(\n",
        "      model=\"gpt-3.5-turbo\",\n",
        "      # Prepare the messages for GPT-4\n",
        "      messages = [\n",
        "          {\"role\": \"system\", \"content\": \"You are a helpful assistant.\"},\n",
        "          {\"role\": \"user\", \"content\": f\"Here is some search result data for '{query}': {search_data}. Summarize the key findings and insights from this data.\"}\n",
        "      ]\n",
        "    )\n",
        "\n",
        "    print(completion.choices[0].message.content)\n",
        "\n",
        "    summary = completion.choices[0].message.content\n",
        "    return summary\n"
      ]
    },
    {
      "cell_type": "markdown",
      "source": [
        "### Usage"
      ],
      "metadata": {
        "id": "HBHQCVPjvk4W"
      }
    },
    {
      "cell_type": "code",
      "source": [
        "query = \"Penguins\"\n",
        "\n",
        "duckduckgo_search(query)"
      ],
      "metadata": {
        "colab": {
          "base_uri": "https://localhost:8080/",
          "height": 680
        },
        "id": "Oa2reKVSvpyr",
        "outputId": "eec94b21-b39c-486d-c927-27d08933ecad"
      },
      "execution_count": 76,
      "outputs": [
        {
          "output_type": "stream",
          "name": "stdout",
          "text": [
            "\n",
            "    Here is some search result data for 'Penguins':\n",
            "    {'Abstract': '', 'AbstractSource': 'Wikipedia', 'AbstractText': '', 'AbstractURL': 'https://en.wikipedia.org/wiki/Penguin_(disambiguation)', 'Answer': '', 'AnswerType': '', 'Definition': '', 'DefinitionSource': '', 'DefinitionURL': '', 'Entity': '', 'Heading': 'Penguin', 'Image': '', 'ImageHeight': 0, 'ImageIsLogo': 0, 'ImageWidth': 0, 'Infobox': '', 'Redirect': '', 'RelatedTopics': [{'FirstURL': 'https://duckduckgo.com/Penguin', 'Icon': {'Height': '', 'URL': '/i/1ab2a21d.jpg', 'Width': ''}, 'Result': '<a href=\"https://duckduckgo.com/Penguin\">Penguin</a>A group of aquatic flightless birds from the order Sphenisciformes of the family Spheniscidae.', 'Text': 'Penguin A group of aquatic flightless birds from the order Sphenisciformes of the family Spheniscidae.'}, {'FirstURL': 'https://duckduckgo.com/Pittsburgh_Penguins', 'Icon': {'Height': '', 'URL': '/i/7ec2f55a.png', 'Width': ''}, 'Result': '<a href=\"https://duckduckgo.com/Pittsburgh_Penguins\">Pittsburgh Penguins</a>A professional ice hockey team based in Pittsburgh.', 'Text': 'Pittsburgh Penguins A professional ice hockey team based in Pittsburgh.'}, {'FirstURL': 'https://duckduckgo.com/Penguin_(character)', 'Icon': {'Height': '', 'URL': '', 'Width': ''}, 'Result': '<a href=\"https://duckduckgo.com/Penguin_(character)\">Penguin (character)</a>A supervillain appearing in American comic books published by DC Comics, commonly as an adversary...', 'Text': 'Penguin (character) A supervillain appearing in American comic books published by DC Comics, commonly as an adversary...'}, {'Name': 'Arts and entertainment', 'Topics': [{'FirstURL': 'https://duckduckgo.com/Penguin_(album)', 'Icon': {'Height': '', 'URL': '/i/fdbfce7e.jpg', 'Width': ''}, 'Result': '<a href=\"https://duckduckgo.com/Penguin_(album)\">Penguin (album)</a>The seventh studio album by British-American rock band Fleetwood Mac, released in March 1973.', 'Text': 'Penguin (album) The seventh studio album by British-American rock band Fleetwood Mac, released in March 1973.'}, {'FirstURL': 'https://duckduckgo.com/Penguin_(book)', 'Icon': {'Height': '', 'URL': '', 'Width': ''}, 'Result': '<a href=\"https://duckduckgo.com/Penguin_(book)\">Penguin (book)</a>A 2007 award-winning children\\'s picture book by Polly Dunbar.', 'Text': \"Penguin (book) A 2007 award-winning children's picture book by Polly Dunbar.\"}, {'FirstURL': 'https://duckduckgo.com/Penguin_(film)', 'Icon': {'Height': '', 'URL': '', 'Width': ''}, 'Result': '<a href=\"https://duckduckgo.com/Penguin_(film)\">Penguin (film)</a>A 2020 Indian Tamil-language mystery thriller film written and directed by Eashvar Karthic in his...', 'Text': 'Penguin (film) A 2020 Indian Tamil-language mystery thriller film written and directed by Eashvar Karthic in his...'}, {'FirstURL': 'https://duckduckgo.com/Penguins_(film)', 'Icon': {'Height': '', 'URL': '', 'Width': ''}, 'Result': '<a href=\"https://duckduckgo.com/Penguins_(film)\">Penguins (film)</a>A 2019 American nature documentary film directed by Alastair Fothergill and Jeff Wilson.', 'Text': 'Penguins (film) A 2019 American nature documentary film directed by Alastair Fothergill and Jeff Wilson.'}, {'FirstURL': 'https://duckduckgo.com/The_Penguin_King', 'Icon': {'Height': '', 'URL': '/i/7986dedf.jpg', 'Width': ''}, 'Result': '<a href=\"https://duckduckgo.com/The_Penguin_King\">The Penguin King</a> A British 2012 natural history documentary which follows the life of a male king penguin on...', 'Text': 'The Penguin King A British 2012 natural history documentary which follows the life of a male king penguin on...'}, {'FirstURL': 'https://duckduckgo.com/The_Penguin_(TV_series)', 'Icon': {'Height': '', 'URL': '', 'Width': ''}, 'Result': '<a href=\"https://duckduckgo.com/The_Penguin_(TV_series)\">The Penguin (TV series)</a>An upcoming American television limited series created by Lauren LeFranc for the streaming...', 'Text': 'The Penguin (TV series) An upcoming American television limited series created by Lauren LeFranc for the streaming...'}, {'FirstURL': 'https://duckduckgo.com/The_Penguins', 'Icon': {'Height': '', 'URL': '', 'Width': ''}, 'Result': '<a href=\"https://duckduckgo.com/The_Penguins\">The Penguins</a>An American doo-wop group from Los Angeles, California, that were active during the 1950s and...', 'Text': 'The Penguins An American doo-wop group from Los Angeles, California, that were active during the 1950s and...'}, {'FirstURL': 'https://duckduckgo.com/The_Penguins_of_Madagascar', 'Icon': {'Height': '', 'URL': '/i/3a4d079d.png', 'Width': ''}, 'Result': '<a href=\"https://duckduckgo.com/The_Penguins_of_Madagascar\">The Penguins of Madagascar</a> An American computer-animated television series co-produced by DreamWorks Animation and...', 'Text': 'The Penguins of Madagascar An American computer-animated television series co-produced by DreamWorks Animation and...'}, {'FirstURL': 'https://duckduckgo.com/Opus_the_Penguin', 'Icon': {'Height': '', 'URL': '/i/9d5d657e.jpg', 'Width': ''}, 'Result': '<a href=\"https://duckduckgo.com/Opus_the_Penguin\">Opus the Penguin</a>A fictional character created by artist Berkeley Breathed.', 'Text': 'Opus the Penguin A fictional character created by artist Berkeley Breathed.'}]}, {'Name': 'Businesses', 'Topics': [{'FirstURL': 'https://duckduckgo.com/Penguin_(restaurant)', 'Icon': {'Height': '', 'URL': '', 'Width': ''}, 'Result': '<a href=\"https://duckduckgo.com/Penguin_(restaurant)\">Penguin (restaurant)</a>The oldest restaurant in Nahariya and one of Israel\\'s oldest surviving restaurants.', 'Text': \"Penguin (restaurant) The oldest restaurant in Nahariya and one of Israel's oldest surviving restaurants.\"}, {'FirstURL': 'https://duckduckgo.com/Penguin_Group', 'Icon': {'Height': '', 'URL': '/i/b827a887.png', 'Width': ''}, 'Result': '<a href=\"https://duckduckgo.com/Penguin_Group\">Penguin Group</a>A British trade book publisher and part of Penguin Random House, which is owned by the German...', 'Text': 'Penguin Group A British trade book publisher and part of Penguin Random House, which is owned by the German...'}, {'FirstURL': 'https://duckduckgo.com/Penguin_Books', 'Icon': {'Height': '', 'URL': '/i/f74c3701.png', 'Width': ''}, 'Result': '<a href=\"https://duckduckgo.com/Penguin_Books\">Penguin Books</a>A British publishing house.', 'Text': 'Penguin Books A British publishing house.'}, {'FirstURL': 'https://duckduckgo.com/Penguin_Software', 'Icon': {'Height': '', 'URL': '/i/9fdc2d83.png', 'Width': ''}, 'Result': '<a href=\"https://duckduckgo.com/Penguin_Software\">Penguin Software</a>A computer software and video game publisher from Geneva, Illinois that produced graphics and...', 'Text': 'Penguin Software A computer software and video game publisher from Geneva, Illinois that produced graphics and...'}, {'FirstURL': 'https://duckduckgo.com/Original_Penguin', 'Icon': {'Height': '', 'URL': '/i/aa3c12fc.jpg', 'Width': ''}, 'Result': '<a href=\"https://duckduckgo.com/Original_Penguin\">Original Penguin</a>An American clothing line.', 'Text': 'Original Penguin An American clothing line.'}]}, {'Name': 'Food', 'Topics': [{'FirstURL': 'https://duckduckgo.com/Penguin_Mints', 'Icon': {'Height': '', 'URL': '/i/315afcc2.jpg', 'Width': ''}, 'Result': '<a href=\"https://duckduckgo.com/Penguin_Mints\">Penguin Mints</a>A brand of caffeinated mints made by Seattle-based ifive brands.', 'Text': 'Penguin Mints A brand of caffeinated mints made by Seattle-based ifive brands.'}, {'FirstURL': 'https://duckduckgo.com/Penguin_(biscuit)', 'Icon': {'Height': '', 'URL': '/i/f59f8302.jpg', 'Width': ''}, 'Result': '<a href=\"https://duckduckgo.com/Penguin_(biscuit)\">Penguin (biscuit)</a>Penguins are milk chocolate biscuits filled with biscuit and chocolate cream.', 'Text': 'Penguin (biscuit) Penguins are milk chocolate biscuits filled with biscuit and chocolate cream.'}]}, {'Name': 'Military', 'Topics': [{'FirstURL': 'https://duckduckgo.com/USS_Penguin', 'Icon': {'Height': '', 'URL': '', 'Width': ''}, 'Result': '<a href=\"https://duckduckgo.com/USS_Penguin\">USS Penguin</a>USS Penguin has been the name of three United States Navy ships: • USS Penguin, a steamer...', 'Text': 'USS Penguin USS Penguin has been the name of three United States Navy ships: • USS Penguin, a steamer...'}, {'FirstURL': 'https://duckduckgo.com/Penguin_(missile)', 'Icon': {'Height': '', 'URL': '/i/7fc8737f.jpg', 'Width': ''}, 'Result': '<a href=\"https://duckduckgo.com/Penguin_(missile)\">Penguin (missile)</a>The Penguin anti-ship missile, designated AGM-119 by the U.S. military, is a Norwegian passive IR...', 'Text': 'Penguin (missile) The Penguin anti-ship missile, designated AGM-119 by the U.S. military, is a Norwegian passive IR...'}]}, {'Name': 'People', 'Topics': [{'FirstURL': 'https://duckduckgo.com/Parit_Chiwarak', 'Icon': {'Height': '', 'URL': '', 'Width': ''}, 'Result': '<a href=\"https://duckduckgo.com/Parit_Chiwarak\">Parit Chiwarak</a>A Thai political activist, Thammasat University student at the Faculty of Political Science, and...', 'Text': 'Parit Chiwarak A Thai political activist, Thammasat University student at the Faculty of Political Science, and...'}, {'FirstURL': 'https://duckduckgo.com/George_Mitchell_(Irish_criminal)', 'Icon': {'Height': '', 'URL': '', 'Width': ''}, 'Result': '<a href=\"https://duckduckgo.com/George_Mitchell_(Irish_criminal)\">George Mitchell (Irish criminal)</a>An Irish criminal originally from Ballyfermot.', 'Text': 'George Mitchell (Irish criminal) An Irish criminal originally from Ballyfermot.'}]}, {'Name': 'Places', 'Topics': [{'FirstURL': 'https://duckduckgo.com/Penguin%2C_Tasmania', 'Icon': {'Height': '', 'URL': '/i/d2fe13ac.png', 'Width': ''}, 'Result': '<a href=\"https://duckduckgo.com/Penguin%2C_Tasmania\">Penguin, Tasmania</a>A town on the north-west coast of Tasmania, Australia.', 'Text': 'Penguin, Tasmania A town on the north-west coast of Tasmania, Australia.'}, {'FirstURL': 'https://duckduckgo.com/Penguin_Islands', 'Icon': {'Height': '', 'URL': '/i/43e8632f.jpg', 'Width': ''}, 'Result': '<a href=\"https://duckduckgo.com/Penguin_Islands\">Penguin Islands</a>A historical group of mostly scattered islands and rocks situated along a stretch of 355...', 'Text': 'Penguin Islands A historical group of mostly scattered islands and rocks situated along a stretch of 355...'}, {'FirstURL': 'https://duckduckgo.com/Penguin_Islands_(Newfoundland_and_Labrador)', 'Icon': {'Height': '', 'URL': '', 'Width': ''}, 'Result': '<a href=\"https://duckduckgo.com/Penguin_Islands_(Newfoundland_and_Labrador)\">Penguin Islands (Newfoundland and Labrador)</a>A cluster of islands and sea stacks located on the south coast of the island of Newfoundland in...', 'Text': 'Penguin Islands (Newfoundland and Labrador) A cluster of islands and sea stacks located on the south coast of the island of Newfoundland in...'}, {'FirstURL': 'https://duckduckgo.com/Penguin_River', 'Icon': {'Height': '', 'URL': '', 'Width': ''}, 'Result': '<a href=\"https://duckduckgo.com/Penguin_River\">Penguin River</a>A small meandering stream which flows in a general northeast direction from Hamberg Lakes to the...', 'Text': 'Penguin River A small meandering stream which flows in a general northeast direction from Hamberg Lakes to the...'}, {'FirstURL': 'https://duckduckgo.com/Penguin_Bay', 'Icon': {'Height': '', 'URL': '', 'Width': ''}, 'Result': '<a href=\"https://duckduckgo.com/Penguin_Bay\">Penguin Bay</a>A small, kelp-infested bay lying just south-east of Ocean Harbour on the north coast of the...', 'Text': 'Penguin Bay A small, kelp-infested bay lying just south-east of Ocean Harbour on the north coast of the...'}, {'FirstURL': 'https://duckduckgo.com/Penguin_Bight', 'Icon': {'Height': '', 'URL': '', 'Width': ''}, 'Result': '<a href=\"https://duckduckgo.com/Penguin_Bight\">Penguin Bight</a>A bight on the southeast coast of Seymour Island, northward of Penguin Point.', 'Text': 'Penguin Bight A bight on the southeast coast of Seymour Island, northward of Penguin Point.'}, {'FirstURL': 'https://duckduckgo.com/Penguin_Heights', 'Icon': {'Height': '', 'URL': '', 'Width': ''}, 'Result': '<a href=\"https://duckduckgo.com/Penguin_Heights\">Penguin Heights</a>A relatively low, rocky elevation about 1 nautical mile southwest of Cape Hinode, on the coast of...', 'Text': 'Penguin Heights A relatively low, rocky elevation about 1 nautical mile southwest of Cape Hinode, on the coast of...'}]}, {'Name': 'Sports', 'Topics': [{'FirstURL': 'https://duckduckgo.com/Pittsburgh_Penguins', 'Icon': {'Height': '', 'URL': '/i/7ec2f55a.png', 'Width': ''}, 'Result': '<a href=\"https://duckduckgo.com/Pittsburgh_Penguins\">Pittsburgh Penguins</a>A professional ice hockey team based in Pittsburgh.', 'Text': 'Pittsburgh Penguins A professional ice hockey team based in Pittsburgh.'}, {'FirstURL': 'https://duckduckgo.com/?q=Wilkes%2DBarre%2FScranton%20Penguins', 'Icon': {'Height': '', 'URL': '/i/1c1a83d4.png', 'Width': ''}, 'Result': '<a href=\"https://duckduckgo.com/?q=Wilkes%2DBarre%2FScranton%20Penguins\">Wilkes-Barre/Scranton Penguins</a>A professional ice hockey team in the American Hockey League, and are the AHL affiliates of the...', 'Text': 'Wilkes-Barre/Scranton Penguins A professional ice hockey team in the American Hockey League, and are the AHL affiliates of the...'}, {'FirstURL': 'https://duckduckgo.com/Krefeld_Pinguine', 'Icon': {'Height': '', 'URL': '/i/9406278b.jpg', 'Width': ''}, 'Result': '<a href=\"https://duckduckgo.com/Krefeld_Pinguine\">Krefeld Pinguine</a>An ice hockey team in the DEL2.', 'Text': 'Krefeld Pinguine An ice hockey team in the DEL2.'}, {'FirstURL': 'https://duckduckgo.com/Penguin_Football_Club', 'Icon': {'Height': '', 'URL': '', 'Width': ''}, 'Result': '<a href=\"https://duckduckgo.com/Penguin_Football_Club\">Penguin Football Club</a>An Australian rules football club based in Penguin, Tasmania. It was founded in 1890.', 'Text': 'Penguin Football Club An Australian rules football club based in Penguin, Tasmania. It was founded in 1890.'}, {'FirstURL': 'https://duckduckgo.com/Dominican_Penguins', 'Icon': {'Height': '', 'URL': '', 'Width': ''}, 'Result': '<a href=\"https://duckduckgo.com/Dominican_Penguins\">Dominican Penguins</a>The athletics teams that represent Dominican University of California, located in San Rafael...', 'Text': 'Dominican Penguins The athletics teams that represent Dominican University of California, located in San Rafael...'}, {'FirstURL': 'https://duckduckgo.com/Youngstown_State_Penguins', 'Icon': {'Height': '', 'URL': '/i/eb00e637.png', 'Width': ''}, 'Result': '<a href=\"https://duckduckgo.com/Youngstown_State_Penguins\">Youngstown State Penguins</a>The athletic teams of Youngstown State University of Youngstown, Ohio.', 'Text': 'Youngstown State Penguins The athletic teams of Youngstown State University of Youngstown, Ohio.'}, {'FirstURL': 'https://duckduckgo.com/Penguin_(dinghy)', 'Icon': {'Height': '', 'URL': '', 'Width': ''}, 'Result': '<a href=\"https://duckduckgo.com/Penguin_(dinghy)\">Penguin (dinghy)</a>An American sailing dinghy that was designed by Philip Rhodes in 1933 as a one design racer for...', 'Text': 'Penguin (dinghy) An American sailing dinghy that was designed by Philip Rhodes in 1933 as a one design racer for...'}, {'FirstURL': 'https://duckduckgo.com/Ron_Cey', 'Icon': {'Height': '', 'URL': '/i/7757ac51.jpg', 'Width': ''}, 'Result': '<a href=\"https://duckduckgo.com/Ron_Cey\">Ron Cey</a> An American former professional baseball player.', 'Text': 'Ron Cey An American former professional baseball player.'}, {'FirstURL': 'https://duckduckgo.com/Penguins_Cup', 'Icon': {'Height': '', 'URL': '', 'Width': ''}, 'Result': '<a href=\"https://duckduckgo.com/Penguins_Cup\">Penguins Cup</a>A high school ice hockey tournament of over 80 high school ice hockey teams from western...', 'Text': 'Penguins Cup A high school ice hockey tournament of over 80 high school ice hockey teams from western...'}]}, {'Name': 'Transportation', 'Topics': [{'FirstURL': 'https://duckduckgo.com/MV_Penguin', 'Icon': {'Height': '', 'URL': '', 'Width': ''}, 'Result': '<a href=\"https://duckduckgo.com/MV_Penguin\">MV Penguin</a>An American cargo liner in commission in the fleet of the United States Bureau of Fisheries from...', 'Text': 'MV Penguin An American cargo liner in commission in the fleet of the United States Bureau of Fisheries from...'}, {'FirstURL': 'https://duckduckgo.com/MV_Penguin_II', 'Icon': {'Height': '', 'URL': '', 'Width': ''}, 'Result': '<a href=\"https://duckduckgo.com/MV_Penguin_II\">MV Penguin II</a>An American refrigerated cargo ship in commission in the fleet of the United States Fish and...', 'Text': 'MV Penguin II An American refrigerated cargo ship in commission in the fleet of the United States Fish and...'}, {'FirstURL': 'https://duckduckgo.com/SS_Penguin', 'Icon': {'Height': '', 'URL': '/i/a62646be.jpg', 'Width': ''}, 'Result': '<a href=\"https://duckduckgo.com/SS_Penguin\">SS Penguin</a>A New Zealand inter-island ferry steamer that sank off the southwest coast of Wellington after...', 'Text': 'SS Penguin A New Zealand inter-island ferry steamer that sank off the southwest coast of Wellington after...'}, {'FirstURL': 'https://duckduckgo.com/MacCready_Gossamer_Penguin', 'Icon': {'Height': '', 'URL': '', 'Width': ''}, 'Result': '<a href=\"https://duckduckgo.com/MacCready_Gossamer_Penguin\">MacCready Gossamer Penguin</a> A solar-powered experimental aircraft created by Paul MacCready\\'s AeroVironment.', 'Text': \"MacCready Gossamer Penguin A solar-powered experimental aircraft created by Paul MacCready's AeroVironment.\"}, {'FirstURL': 'https://duckduckgo.com/Antarctic_Snow_Cruiser', 'Icon': {'Height': '', 'URL': '/i/a38f0ce7.jpg', 'Width': ''}, 'Result': '<a href=\"https://duckduckgo.com/Antarctic_Snow_Cruiser\">Antarctic Snow Cruiser</a>A vehicle designed from 1937 to 1939 under the direction of Thomas Poulter, intended to...', 'Text': 'Antarctic Snow Cruiser A vehicle designed from 1937 to 1939 under the direction of Thomas Poulter, intended to...'}]}, {'Name': 'Other uses', 'Topics': [{'FirstURL': 'https://duckduckgo.com/Penguin_(solitaire)', 'Icon': {'Height': '', 'URL': '/i/30c05f22.jpg', 'Width': ''}, 'Result': '<a href=\"https://duckduckgo.com/Penguin_(solitaire)\">Penguin (solitaire)</a>A patience or solitaire card game, invented by David Parlett, which uses a deck of 52 playing cards.', 'Text': 'Penguin (solitaire) A patience or solitaire card game, invented by David Parlett, which uses a deck of 52 playing cards.'}, {'FirstURL': 'https://duckduckgo.com/Google_Penguin', 'Icon': {'Height': '', 'URL': '', 'Width': ''}, 'Result': '<a href=\"https://duckduckgo.com/Google_Penguin\">Google Penguin</a> A codename for a Google algorithm update that was first announced on April 24, 2012.', 'Text': 'Google Penguin A codename for a Google algorithm update that was first announced on April 24, 2012.'}, {'FirstURL': 'https://duckduckgo.com/Penguin_Award', 'Icon': {'Height': '', 'URL': '', 'Width': ''}, 'Result': '<a href=\"https://duckduckgo.com/Penguin_Award\">Penguin Award</a>An annual award given for excellence in broadcasting by the Television Society of Australia.', 'Text': 'Penguin Award An annual award given for excellence in broadcasting by the Television Society of Australia.'}, {'FirstURL': 'https://duckduckgo.com/Penguin_High_School', 'Icon': {'Height': 16, 'URL': '/i/www.schools.education.tas.gov.au.ico', 'Width': 16}, 'Result': '<a href=\"https://duckduckgo.com/Penguin_High_School\">Penguin High School</a>A public, co-educational high school, in Penguin, Tasmania, Australia, a town located midway...', 'Text': 'Penguin High School A public, co-educational high school, in Penguin, Tasmania, Australia, a town located midway...'}]}, {'Name': 'See also', 'Topics': [{'FirstURL': 'https://duckduckgo.com/d/Penguin_Island', 'Icon': {'Height': '', 'URL': '', 'Width': ''}, 'Result': '<a href=\"https://duckduckgo.com/d/Penguin_Island\">Penguin Island</a> See related meanings for the phrase \\'Penguin Island\\'.', 'Text': \"Penguin Island See related meanings for the phrase 'Penguin Island'.\"}, {'FirstURL': 'https://duckduckgo.com/d/Penguin_Point', 'Icon': {'Height': '', 'URL': '', 'Width': ''}, 'Result': '<a href=\"https://duckduckgo.com/d/Penguin_Point\">Penguin Point</a> Three points in the Antarctic.', 'Text': 'Penguin Point Three points in the Antarctic.'}, {'FirstURL': 'https://duckduckgo.com/d/Pinguin', 'Icon': {'Height': '', 'URL': '', 'Width': ''}, 'Result': '<a href=\"https://duckduckgo.com/d/Pinguin\">Pinguin</a> See related meanings for the word \\'Pinguin\\'.', 'Text': \"Pinguin See related meanings for the word 'Pinguin'.\"}, {'FirstURL': 'https://duckduckgo.com/d/Pingouin', 'Icon': {'Height': '', 'URL': '', 'Width': ''}, 'Result': '<a href=\"https://duckduckgo.com/d/Pingouin\">Pingouin</a> See related meanings for the word \\'Pingouin\\'.', 'Text': \"Pingouin See related meanings for the word 'Pingouin'.\"}]}], 'Results': [], 'Type': 'D', 'meta': {'attribution': None, 'blockgroup': None, 'created_date': None, 'description': 'Wikipedia', 'designer': None, 'dev_date': None, 'dev_milestone': 'live', 'developer': [{'name': 'DDG Team', 'type': 'ddg', 'url': 'http://www.duckduckhack.com'}], 'example_query': 'nikola tesla', 'id': 'wikipedia_fathead', 'is_stackexchange': None, 'js_callback_name': 'wikipedia', 'live_date': None, 'maintainer': {'github': 'duckduckgo'}, 'name': 'Wikipedia', 'perl_module': 'DDG::Fathead::Wikipedia', 'producer': None, 'production_state': 'online', 'repo': 'fathead', 'signal_from': 'wikipedia_fathead', 'src_domain': 'en.wikipedia.org', 'src_id': 1, 'src_name': 'Wikipedia', 'src_options': {'directory': '', 'is_fanon': 0, 'is_mediawiki': 1, 'is_wikipedia': 1, 'language': 'en', 'min_abstract_length': '20', 'skip_abstract': 0, 'skip_abstract_paren': 0, 'skip_end': '0', 'skip_icon': 0, 'skip_image_name': 0, 'skip_qr': '', 'source_skip': '', 'src_info': ''}, 'src_url': None, 'status': 'live', 'tab': 'About', 'topic': ['productivity'], 'unsafe': 0}}\n",
            "\n",
            "    Summarize the key findings and insights from this data. The response should not be bold or use any tags.\n",
            "    \n",
            "The search results for 'Penguins' show a diverse range of topics related to penguins. Here are the key findings and insights from the data:\n",
            "\n",
            "1. **Main Topic**: The search primarily covers various aspects related to penguins, including the aquatic flightless birds, a professional ice hockey team (Pittsburgh Penguins), a supervillain character (Penguin), and more.\n",
            "\n",
            "2. **Categories Covered**:\n",
            "    - **Arts and Entertainment**: Includes mentions of albums, books, films, and TV series related to penguins.\n",
            "    - **Businesses**: Features businesses such as a restaurant, book publisher, and clothing line with 'Penguin' in their name.\n",
            "    - **Food**: Discusses penguin-themed food items like mints and biscuits.\n",
            "    - **Military**: Mentions naval ships and missiles named after penguins.\n",
            "    - **People**: Highlights individuals associated with the name 'Penguin'.\n",
            "    - **Places**: Covers locations such as towns, islands, and rivers named after penguins.\n",
            "    - **Sports**: Focuses on sports teams, especially ice hockey teams, bearing the name 'Penguins'.\n",
            "    - **Transportation**: Includes ships and a solar-powered aircraft with 'Penguin' in their names.\n",
            "    - **Other Uses**: Mentions a card game, an algorithm update, an award, and a high school with 'Penguin' in their titles.\n",
            "    - **See Also**: Provides related links to 'Penguin Island', 'Penguin Point', and similar terms.\n",
            "\n",
            "3. **Variety of Topics**: The data showcases the wide range of fields where the term 'Penguin' is used, including entertainment, sports, food, military, transportation, and more.\n",
            "\n",
            "4. **Comprehensive Coverage**: The information provided covers different aspects related to 'Penguins', giving a comprehensive overview of how the term is utilized in various contexts.\n",
            "\n",
            "Overall, the search results offer a detailed look at the diverse applications and references to 'Penguins' across different domains.\n"
          ]
        },
        {
          "output_type": "execute_result",
          "data": {
            "text/plain": [
              "\"The search results for 'Penguins' show a diverse range of topics related to penguins. Here are the key findings and insights from the data:\\n\\n1. **Main Topic**: The search primarily covers various aspects related to penguins, including the aquatic flightless birds, a professional ice hockey team (Pittsburgh Penguins), a supervillain character (Penguin), and more.\\n\\n2. **Categories Covered**:\\n    - **Arts and Entertainment**: Includes mentions of albums, books, films, and TV series related to penguins.\\n    - **Businesses**: Features businesses such as a restaurant, book publisher, and clothing line with 'Penguin' in their name.\\n    - **Food**: Discusses penguin-themed food items like mints and biscuits.\\n    - **Military**: Mentions naval ships and missiles named after penguins.\\n    - **People**: Highlights individuals associated with the name 'Penguin'.\\n    - **Places**: Covers locations such as towns, islands, and rivers named after penguins.\\n    - **Sports**: Focuses on sports teams, especially ice hockey teams, bearing the name 'Penguins'.\\n    - **Transportation**: Includes ships and a solar-powered aircraft with 'Penguin' in their names.\\n    - **Other Uses**: Mentions a card game, an algorithm update, an award, and a high school with 'Penguin' in their titles.\\n    - **See Also**: Provides related links to 'Penguin Island', 'Penguin Point', and similar terms.\\n\\n3. **Variety of Topics**: The data showcases the wide range of fields where the term 'Penguin' is used, including entertainment, sports, food, military, transportation, and more.\\n\\n4. **Comprehensive Coverage**: The information provided covers different aspects related to 'Penguins', giving a comprehensive overview of how the term is utilized in various contexts.\\n\\nOverall, the search results offer a detailed look at the diverse applications and references to 'Penguins' across different domains.\""
            ],
            "application/vnd.google.colaboratory.intrinsic+json": {
              "type": "string"
            }
          },
          "metadata": {},
          "execution_count": 76
        }
      ]
    },
    {
      "cell_type": "markdown",
      "source": [
        "\n",
        "\n",
        "---\n",
        "\n"
      ],
      "metadata": {
        "id": "ZouQlNy0UhxZ"
      }
    },
    {
      "cell_type": "markdown",
      "source": [
        "\n",
        "\n",
        "---\n",
        "\n"
      ],
      "metadata": {
        "id": "eNuLtTjPUkfd"
      }
    },
    {
      "cell_type": "markdown",
      "source": [
        "# Browsing Web Content with Playwright and Summarizing Using GPT-4\n",
        "\n",
        "This Python function, `browsing_web_using_playwright`, fetches web content asynchronously using Playwright, extracts relevant information using BeautifulSoup, and then generates a summary with GPT-4.\n",
        "\n",
        "## Parameters:\n",
        "- `url`: URL of the website to scrape.\n",
        "\n",
        "## Process:\n",
        "1. **Fetch Web Content**: Asynchronously launch a Chromium browser with Playwright, navigate to the specified URL, and retrieve the HTML content.\n",
        "2. **Parse HTML Content**: Use BeautifulSoup to extract various elements such as title, meta description, keywords, headings, paragraphs, and links from the HTML.\n",
        "3. **Prepare GPT-4 Prompt**: Construct a prompt containing the extracted information.\n",
        "4. **Generate Summary**: Utilize GPT-4 to generate a summary based on the prompt.\n"
      ],
      "metadata": {
        "id": "VgZ07wJ-JBOa"
      }
    },
    {
      "cell_type": "code",
      "source": [
        "async def browsing_web_using_playwright(url):\n",
        "\n",
        "    # Fetch web content using Playwright asynchronously\n",
        "    async with async_playwright() as p:\n",
        "        browser = await p.chromium.launch(headless=True)\n",
        "        page = await browser.new_page()\n",
        "        await page.goto(url)\n",
        "        html_content = await page.content()\n",
        "        await browser.close()\n",
        "\n",
        "    # Parse HTML content with BeautifulSoup\n",
        "    soup = BeautifulSoup(html_content, 'html.parser')\n",
        "    title_text = soup.title.text if soup.title else 'No title found'\n",
        "    meta_description = soup.find('meta', attrs={'name': 'description'})\n",
        "    meta_description = meta_description['content'] if meta_description else 'No description found'\n",
        "    meta_keywords = soup.find('meta', attrs={'name': 'keywords'})\n",
        "    meta_keywords = meta_keywords['content'] if meta_keywords else 'No keywords found'\n",
        "    headings = [h.text.strip() for h in soup.find_all(['h1', 'h2'])]\n",
        "    headings_text = ', '.join(headings) if headings else 'No headings found'\n",
        "    paragraphs = [p.text.strip() for p in soup.find_all('p')[:3]]\n",
        "    paragraphs_text = ' '.join(paragraphs) if paragraphs else 'No paragraphs found'\n",
        "    links = [a['href'] for a in soup.find_all('a', href=True)[:5]]\n",
        "    links_text = ', '.join(links) if links else 'No links found'\n",
        "\n",
        "    # Prepare the prompt for GPT-4\n",
        "    prompt = f\"\"\"\n",
        "    Analyze the following data and summarize the key points:\n",
        "    Title: {title_text}\n",
        "    Meta Description: {meta_description}\n",
        "    Meta Keywords: {meta_keywords}\n",
        "    Headings: {headings_text}\n",
        "    Paragraphs: {paragraphs_text}\n",
        "    Links: {links_text}\n",
        "    \"\"\"\n",
        "\n",
        "    print(prompt)\n",
        "\n",
        "    # Call the GPT-4 summarization function\n",
        "    summary = summarize_with_gpt4(prompt)\n",
        "    return summary\n"
      ],
      "metadata": {
        "id": "4UNWGO_pJAQK"
      },
      "execution_count": 84,
      "outputs": []
    },
    {
      "cell_type": "markdown",
      "source": [
        "# Summarizing with GPT-4\n",
        "\n",
        "This Python function, `summarize_with_gpt4`, utilizes GPT-4 to generate a summary based on a provided prompt.\n",
        "\n",
        "## Parameters:\n",
        "- `prompt`: The prompt containing the text data to summarize.\n",
        "\n",
        "## Process:\n",
        "1. **Set API Key**: Configure the OpenAI API key for authentication.\n",
        "2. **Call GPT-4**: Send the prompt to the GPT-4 model to generate a summary.\n",
        "3. **Retrieve Summary**: Extract the generated summary from the response.\n"
      ],
      "metadata": {
        "id": "rrGYbeG9Noxf"
      }
    },
    {
      "cell_type": "code",
      "source": [
        "def summarize_with_gpt4(prompt):\n",
        "\n",
        "    # Set OpenAI API key\n",
        "    from openai import OpenAI\n",
        "    client = OpenAI(\n",
        "        api_key=OPENAI_API_KEY\n",
        "    )\n",
        "\n",
        "    completion = client.chat.completions.create(\n",
        "        model=\"gpt-3.5-turbo\",\n",
        "        messages=[\n",
        "            {\"role\": \"system\", \"content\": \"You are a helpful assistant.\"},\n",
        "            {\"role\": \"user\", \"content\": prompt}\n",
        "        ],\n",
        "        max_tokens=300\n",
        "    )\n",
        "\n",
        "    # print(completion.choices[0].message.content)\n",
        "\n",
        "    summary = completion.choices[0].message.content\n",
        "    return summary\n"
      ],
      "metadata": {
        "id": "bCK7_QIFNpPl"
      },
      "execution_count": 83,
      "outputs": []
    },
    {
      "cell_type": "markdown",
      "source": [
        "## Usage"
      ],
      "metadata": {
        "id": "2gTx5ygfNqIk"
      }
    },
    {
      "cell_type": "code",
      "source": [
        "url = 'https://example.com'\n",
        "summary = await browsing_web_using_playwright(url)\n",
        "print(summary)\n"
      ],
      "metadata": {
        "colab": {
          "base_uri": "https://localhost:8080/"
        },
        "id": "v7U8LWj1JNtZ",
        "outputId": "9030db28-8729-4462-dbb6-7a8e9ed12a0c"
      },
      "execution_count": 85,
      "outputs": [
        {
          "output_type": "stream",
          "name": "stdout",
          "text": [
            "\n",
            "    Analyze the following data and summarize the key points:\n",
            "    Title: Example Domain\n",
            "    Meta Description: No description found\n",
            "    Meta Keywords: No keywords found\n",
            "    Headings: Example Domain\n",
            "    Paragraphs: This domain is for use in illustrative examples in documents. You may use this\n",
            "    domain in literature without prior coordination or asking for permission. More information...\n",
            "    Links: https://www.iana.org/domains/example\n",
            "    \n",
            "Based on the provided data:\n",
            "\n",
            "Title: The title of the page is \"Example Domain.\"\n",
            "Meta Description: No meta description is found, which can impact search engine visibility and user understanding of the content.\n",
            "Meta Keywords: No meta keywords are found, which used to be a way to help search engines understand the content of the page.\n",
            "Headings: The heading on the page reiterates \"Example Domain.\"\n",
            "Paragraphs: The paragraph provides information that the domain is for illustrative examples in documents and can be used without coordination or permission.\n",
            "Links: There is a link provided to the website https://www.iana.org/domains/example for more information.\n",
            "\n",
            "Key Points:\n",
            "1. The page is using the title \"Example Domain\" and has minimal metadata.\n",
            "2. The content indicates that the domain is intended for illustrative examples in documents.\n",
            "3. Users are allowed to use the domain in literature without asking for permission.\n",
            "4. A link is provided for more information on the domain.\n",
            "\n",
            "Overall, the page seems to serve as a placeholder or example domain for demonstration purposes rather than offering specific products or services.\n"
          ]
        }
      ]
    }
  ]
}
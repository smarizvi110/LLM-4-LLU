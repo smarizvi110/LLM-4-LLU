{
  "cells": [
    {
      "cell_type": "markdown",
      "metadata": {},
      "source": [
        "# LLM4LLU : OCR to text / JSON analysis\n",
        "\n",
        "Optical character recognition or optical character reader (OCR) is the electronic or mechanical conversion of images of typed, handwritten or printed text into machine-encoded text, whether from a scanned document, a photo of a document, or even a scene photo. In the context of LLM4LLU, we expect many users will be providing images of documents to the application in order to get help for filling out forms, applying for programmes, checking for requirements or just having an understanding of the contents of a document in general. Thus, it will be important for our application to have a robust system for implementing OCR so that the LLM in question (GPT4) has full access to all the relevant text it needs to answer user queries.\n",
        "\n",
        "After a brief literature review, we learn that while GPT4 performs well over a variety of OCR tasks, it can still struggle in the more complex ones. Furthermore, it does not outperform existing state-of-the-art OCR models, thus using GPT4 for OCR downstream tasks remains an open problem (https://arxiv.org/abs/2310.16809). However, combining GPT with a model specifically trained for extracting information from documents leads to very promising results, as the information is provided to the LLM in a text format, the modality most suited for assessing context and semantics, and the LLM is not restricted by its image handling limitations (https://arxiv.org/abs/2403.07553)."
      ]
    },
    {
      "cell_type": "markdown",
      "metadata": {},
      "source": [
        "## Our Approach\n",
        "\n",
        "Following this idea, we plan to use GPT4 in tandem with an OCR model, and another smaller LLM for converting the OCR output into a structured JSON format. Since keeping the cost of running our backend low is one of our objectives with this project as well, using a smaller LLM for converting OCR output to structured JSON makes sense as it reduces OpenAI API calls.\n",
        "\n",
        "We use PaddleOCR for our OCR purposes, which is a state of the art ultra-lightweight, pre-trained model interface for OCR tasks and data annotation (https://github.com/PaddlePaddle/PaddleOCR). As for the text to JSON LLM, we use a quantized version of Gemma7b through the Unsloth platform (https://huggingface.co/unsloth/gemma-7b-bnb-4bit), as their version of Gemma7b is further optimized to use lesser VRAM and perform inference faster, thus helping to provide timely responses to our users.\n",
        "\n",
        "This notebooks walks through the process of using PaddleOCR on a NADRA document (first in English, then in Urdu), and subsequently how the OCR output can be provided to Gemma7b in order to generate a JSON object suitable for passing to GPT4 in tandem with the original image."
      ]
    },
    {
      "cell_type": "markdown",
      "metadata": {},
      "source": [
        "## Implementation\n",
        "\n",
        "First, we import all libraries and set the environment variables as necessary."
      ]
    },
    {
      "cell_type": "code",
      "execution_count": 1,
      "metadata": {
        "id": "x2d3td_EmVPZ"
      },
      "outputs": [],
      "source": [
        "# !pip install paddlepaddle paddleocr\n",
        "# !pip install --upgrade paddleocr"
      ]
    },
    {
      "cell_type": "code",
      "execution_count": 2,
      "metadata": {
        "id": "oHL7zYtmmYJQ"
      },
      "outputs": [],
      "source": [
        "import os\n",
        "os.environ['KMP_DUPLICATE_LIB_OK']='True'"
      ]
    },
    {
      "cell_type": "code",
      "execution_count": 3,
      "metadata": {
        "id": "RN8JyIBKmZgb"
      },
      "outputs": [],
      "source": [
        "import numpy as np\n",
        "from PIL import Image"
      ]
    },
    {
      "cell_type": "markdown",
      "metadata": {},
      "source": [
        "Next, we open an image of a NADRA document template from their website. The document is completely in English."
      ]
    },
    {
      "cell_type": "code",
      "execution_count": 35,
      "metadata": {
        "id": "SbAHe1xLmau4"
      },
      "outputs": [],
      "source": [
        "input_image = Image.open('nadra_d_certificate.png')\n",
        "input_image_array = np.array(input_image.convert('RGB'))"
      ]
    },
    {
      "cell_type": "markdown",
      "metadata": {},
      "source": [
        "We now pass the image data to PaddleOCR, set to detect English text only (\"en\")."
      ]
    },
    {
      "cell_type": "code",
      "execution_count": 36,
      "metadata": {
        "colab": {
          "base_uri": "https://localhost:8080/"
        },
        "id": "nR6IJTDLmb6y",
        "outputId": "fbe8534b-6b83-43f8-de8c-1f1c9307a997"
      },
      "outputs": [
        {
          "name": "stdout",
          "output_type": "stream",
          "text": [
            "[2024/04/25 19:47:37] ppocr WARNING: Since the angle classifier is not initialized, it will not be used during the forward process\n",
            "---------------------------------------------------------------------------------------------------- \n",
            "text only:\n",
            " ['APPLICATION FORM FOR DEATH CERTIFICATE', 'To', 'The Registrar of Births & Deaths, Municipality, Koraput.', 'Sub:', 'Issue of Death Certificate', 'Sir/Madam,', 'I am submitting here with the following particulars for issue of Death Certificate under section-17.', '.Copy/Copies)', 'For Office use only', 'Registration No.', 'Date of Registration :', 'Application No.', 'Search Fee', 'No.of year', 'Challan Amount:Rs.', 'Challan No:', 'Challan Date.', 'M/R Amount:Rs.', 'M/R No', 'M/R Date', 'Issue No.', 'Issue Date', 'ID No.', 'ID Type ', 'Ortps Ack. No.', 'Date:', '(FILL THE BLANKS USING CAPITAL LETTERS)', 'Date of Death*', '(DD/MM/YYYY)', 'Gender', '(Male/Female)', 'Deceased Name :', 'First Name)', '(Middle Name)', '(Last/Surname)', 'Care of*', 'O Father', 'O Husband', 'Father/Husband Name*', '(First Name)', '(Middle Name)', '(Last/Surname)', 'Deceased Age (In Years)*', 'Age (In Months)', 'Age (In Days)', 'Age (In Hours)', 'PERMANANT ADDRESS', 'Address Line At*', 'Po', 'Police Station:', 'Country*', 'State*', 'District*', 'Pin:', 'Mobile No:', 'email ID:', 'PLACE OF DEATH', 'OHouse', 'OHospital', 'Place of Death*', 'Address Line*At:', 'Po:', 'Police Station:', 'Country*', 'State*', 'District*', 'Pin:', 'INFORMANT/APPLICANT NAME AND ADDRESS:', 'Name*', 'Sex:', 'M/F) O Same as Permanent Address O Others', 'Father /Husband Name*', 'Address Line*At:', 'Po:', 'Police Station', 'Country*', 'State*', 'District*', 'Pin:', 'Relation with the Deceased*', 'Identity Proof Submitted*', '(PAN CARD/PASSPORT/DRIVING LICENC /RATION CARD/', 'VOTER ID CARD/PHOTO ID CARD issued by POST OFFICE/', 'GOVT/DEFENCE ID CARD)']\n",
            "---------------------------------------------------------------------------------------------------- \n",
            "ocr boxes:\n",
            " [[[[186.0, 47.0], [582.0, 48.0], [582.0, 62.0], [186.0, 61.0]], ('APPLICATION FORM FOR DEATH CERTIFICATE', 0.9650453329086304)], [[[34.0, 79.0], [54.0, 79.0], [54.0, 92.0], [34.0, 92.0]], ('To', 0.9970759153366089)], [[[82.0, 96.0], [432.0, 96.0], [432.0, 110.0], [82.0, 110.0]], ('The Registrar of Births & Deaths, Municipality, Koraput.', 0.9726689457893372)], [[[34.0, 113.0], [70.0, 113.0], [70.0, 127.0], [34.0, 127.0]], ('Sub:', 0.9718410968780518)], [[[83.0, 114.0], [241.0, 114.0], [241.0, 127.0], [83.0, 127.0]], ('Issue of Death Certificate', 0.9640681743621826)], [[[34.0, 128.0], [111.0, 132.0], [110.0, 146.0], [33.0, 143.0]], ('Sir/Madam,', 0.996524453163147)], [[[128.0, 148.0], [724.0, 148.0], [724.0, 162.0], [128.0, 162.0]], ('I am submitting here with the following particulars for issue of Death Certificate under section-17.', 0.9873812198638916)], [[[165.0, 165.0], [256.0, 165.0], [256.0, 179.0], [165.0, 179.0]], ('.Copy/Copies)', 0.9882674813270569)], [[[315.0, 196.0], [443.0, 196.0], [443.0, 209.0], [315.0, 209.0]], ('For Office use only', 0.9761068224906921)], [[[35.0, 209.0], [135.0, 209.0], [135.0, 224.0], [35.0, 224.0]], ('Registration No.', 0.9880475997924805)], [[[293.0, 209.0], [429.0, 210.0], [429.0, 225.0], [293.0, 224.0]], ('Date of Registration :', 0.9640104174613953)], [[[35.0, 232.0], [130.0, 231.0], [131.0, 246.0], [36.0, 248.0]], ('Application No.', 0.971187174320221)], [[[342.0, 232.0], [412.0, 232.0], [412.0, 246.0], [342.0, 246.0]], ('Search Fee', 0.9557740092277527)], [[[491.0, 232.0], [560.0, 232.0], [560.0, 246.0], [491.0, 246.0]], ('No.of year', 0.9864915013313293)], [[[35.0, 254.0], [164.0, 254.0], [164.0, 268.0], [35.0, 268.0]], ('Challan Amount:Rs.', 0.9598687291145325)], [[[267.0, 254.0], [344.0, 254.0], [344.0, 268.0], [267.0, 268.0]], ('Challan No:', 0.9687651991844177)], [[[497.0, 254.0], [592.0, 254.0], [592.0, 268.0], [497.0, 268.0]], ('Challan Date.', 0.9634415507316589)], [[[35.0, 276.0], [155.0, 276.0], [155.0, 291.0], [35.0, 291.0]], ('M/R Amount:Rs.', 0.9118166565895081)], [[[271.0, 274.0], [337.0, 277.0], [337.0, 292.0], [270.0, 290.0]], ('M/R No', 0.9433539509773254)], [[[499.0, 274.0], [569.0, 277.0], [568.0, 292.0], [499.0, 290.0]], ('M/R Date', 0.9720607995986938)], [[[35.0, 296.0], [102.0, 298.0], [102.0, 314.0], [34.0, 312.0]], ('Issue No.', 0.9625869393348694)], [[[187.0, 299.0], [257.0, 299.0], [257.0, 314.0], [187.0, 314.0]], ('Issue Date', 0.9878125190734863)], [[[352.0, 298.0], [395.0, 298.0], [395.0, 314.0], [352.0, 314.0]], ('ID No.', 0.9222469329833984)], [[[547.0, 296.0], [612.0, 298.0], [611.0, 316.0], [547.0, 314.0]], ('ID Type ', 0.9321780204772949)], [[[35.0, 322.0], [127.0, 322.0], [127.0, 337.0], [35.0, 337.0]], ('Ortps Ack. No.', 0.9416857957839966)], [[[399.0, 320.0], [438.0, 322.0], [436.0, 338.0], [398.0, 335.0]], ('Date:', 0.9800100326538086)], [[[221.0, 345.0], [546.0, 345.0], [546.0, 358.0], [221.0, 358.0]], ('(FILL THE BLANKS USING CAPITAL LETTERS)', 0.969777524471283)], [[[35.0, 375.0], [128.0, 375.0], [128.0, 388.0], [35.0, 388.0]], ('Date of Death*', 0.9440938234329224)], [[[301.0, 377.0], [371.0, 377.0], [371.0, 388.0], [301.0, 388.0]], ('(DD/MM/YYYY)', 0.9280925393104553)], [[[476.0, 373.0], [525.0, 375.0], [524.0, 391.0], [476.0, 388.0]], ('Gender', 0.9963352084159851)], [[[631.0, 375.0], [723.0, 375.0], [723.0, 389.0], [631.0, 389.0]], ('(Male/Female)', 0.9950230121612549)], [[[35.0, 411.0], [142.0, 412.0], [142.0, 427.0], [34.0, 426.0]], ('Deceased Name :', 0.9528746008872986)], [[[182.0, 425.0], [244.0, 427.0], [244.0, 438.0], [181.0, 437.0]], ('First Name)', 0.9774771332740784)], [[[402.0, 425.0], [473.0, 427.0], [473.0, 438.0], [402.0, 437.0]], ('(Middle Name)', 0.9970581531524658)], [[[597.0, 425.0], [669.0, 427.0], [669.0, 438.0], [597.0, 437.0]], ('(Last/Surname)', 0.998529314994812)], [[[35.0, 452.0], [90.0, 452.0], [90.0, 467.0], [35.0, 467.0]], ('Care of*', 0.9772250056266785)], [[[128.0, 450.0], [188.0, 453.0], [187.0, 467.0], [127.0, 465.0]], ('O Father', 0.8847585916519165)], [[[242.0, 448.0], [319.0, 452.0], [318.0, 470.0], [241.0, 467.0]], ('O Husband', 0.9487864375114441)], [[[35.0, 483.0], [187.0, 483.0], [187.0, 496.0], [35.0, 496.0]], ('Father/Husband Name*', 0.9918654561042786)], [[[242.0, 497.0], [301.0, 497.0], [301.0, 508.0], [242.0, 508.0]], ('(First Name)', 0.9955453276634216)], [[[460.0, 496.0], [529.0, 497.0], [529.0, 508.0], [460.0, 507.0]], ('(Middle Name)', 0.9925370812416077)], [[[600.0, 498.0], [670.0, 498.0], [670.0, 508.0], [600.0, 508.0]], ('(Last/Surname)', 0.9983052611351013)], [[[35.0, 514.0], [193.0, 514.0], [193.0, 527.0], [35.0, 527.0]], ('Deceased Age (In Years)*', 0.9551295638084412)], [[[256.0, 514.0], [358.0, 514.0], [358.0, 528.0], [256.0, 528.0]], ('Age (In Months)', 0.9575838446617126)], [[[419.0, 514.0], [505.0, 514.0], [505.0, 528.0], [419.0, 528.0]], ('Age (In Days)', 0.9485206604003906)], [[[574.0, 514.0], [668.0, 514.0], [668.0, 528.0], [574.0, 528.0]], ('Age (In Hours)', 0.9487420916557312)], [[[34.0, 536.0], [198.0, 536.0], [198.0, 550.0], [34.0, 550.0]], ('PERMANANT ADDRESS', 0.9878047704696655)], [[[37.0, 567.0], [147.0, 567.0], [147.0, 581.0], [37.0, 581.0]], ('Address Line At*', 0.969099223613739)], [[[352.0, 567.0], [374.0, 567.0], [374.0, 580.0], [352.0, 580.0]], ('Po', 0.9883362054824829)], [[[513.0, 565.0], [604.0, 568.0], [604.0, 583.0], [512.0, 581.0]], ('Police Station:', 0.970521867275238)], [[[35.0, 587.0], [95.0, 589.0], [95.0, 605.0], [34.0, 602.0]], ('Country*', 0.9955512881278992)], [[[216.0, 589.0], [258.0, 589.0], [258.0, 604.0], [216.0, 604.0]], ('State*', 0.9947420954704285)], [[[422.0, 589.0], [478.0, 589.0], [478.0, 604.0], [422.0, 604.0]], ('District*', 0.9635711312294006)], [[[34.0, 610.0], [68.0, 612.0], [67.0, 629.0], [33.0, 626.0]], ('Pin:', 0.9419666528701782)], [[[181.0, 612.0], [256.0, 612.0], [256.0, 626.0], [181.0, 626.0]], ('Mobile No:', 0.9206010103225708)], [[[411.0, 612.0], [476.0, 612.0], [476.0, 626.0], [411.0, 626.0]], ('email ID:', 0.9379667639732361)], [[[35.0, 634.0], [163.0, 635.0], [163.0, 649.0], [34.0, 648.0]], ('PLACE OF DEATH', 0.9644254446029663)], [[[32.0, 665.0], [95.0, 665.0], [95.0, 682.0], [32.0, 682.0]], ('OHouse', 0.9578664898872375)], [[[118.0, 665.0], [195.0, 665.0], [195.0, 682.0], [118.0, 682.0]], ('OHospital', 0.9367791414260864)], [[[242.0, 665.0], [338.0, 665.0], [338.0, 679.0], [242.0, 679.0]], ('Place of Death*', 0.9770593643188477)], [[[35.0, 688.0], [145.0, 688.0], [145.0, 702.0], [35.0, 702.0]], ('Address Line*At:', 0.9477869868278503)], [[[340.0, 688.0], [370.0, 688.0], [370.0, 703.0], [340.0, 703.0]], ('Po:', 0.8786744475364685)], [[[519.0, 688.0], [608.0, 688.0], [608.0, 702.0], [519.0, 702.0]], ('Police Station:', 0.9866565465927124)], [[[34.0, 709.0], [97.0, 709.0], [97.0, 727.0], [34.0, 727.0]], ('Country*', 0.9907951951026917)], [[[216.0, 709.0], [260.0, 709.0], [260.0, 725.0], [216.0, 725.0]], ('State*', 0.9850468635559082)], [[[428.0, 708.0], [485.0, 710.0], [485.0, 726.0], [428.0, 724.0]], ('District*', 0.9334082007408142)], [[[35.0, 732.0], [67.0, 732.0], [67.0, 748.0], [35.0, 748.0]], ('Pin:', 0.9482871890068054)], [[[34.0, 756.0], [376.0, 756.0], [376.0, 769.0], [34.0, 769.0]], ('INFORMANT/APPLICANT NAME AND ADDRESS:', 0.9707490801811218)], [[[34.0, 793.0], [81.0, 793.0], [81.0, 808.0], [34.0, 808.0]], ('Name*', 0.9971634745597839)], [[[317.0, 791.0], [354.0, 795.0], [353.0, 810.0], [316.0, 806.0]], ('Sex:', 0.877268373966217)], [[[412.0, 792.0], [717.0, 793.0], [717.0, 808.0], [412.0, 807.0]], ('M/F) O Same as Permanent Address O Others', 0.9351783394813538)], [[[35.0, 816.0], [193.0, 816.0], [193.0, 830.0], [35.0, 830.0]], ('Father /Husband Name*', 0.9786888957023621)], [[[37.0, 847.0], [145.0, 847.0], [145.0, 860.0], [37.0, 860.0]], ('Address Line*At:', 0.9850470423698425)], [[[347.0, 843.0], [373.0, 846.0], [371.0, 862.0], [345.0, 859.0]], ('Po:', 0.9386880993843079)], [[[525.0, 846.0], [610.0, 846.0], [610.0, 860.0], [525.0, 860.0]], ('Police Station', 0.9781574606895447)], [[[35.0, 874.0], [96.0, 876.0], [96.0, 892.0], [34.0, 889.0]], ('Country*', 0.9886025190353394)], [[[216.0, 875.0], [259.0, 875.0], [259.0, 890.0], [216.0, 890.0]], ('State*', 0.9908378720283508)], [[[436.0, 874.0], [493.0, 876.0], [492.0, 892.0], [435.0, 889.0]], ('District*', 0.9804610013961792)], [[[36.0, 895.0], [67.0, 899.0], [65.0, 915.0], [34.0, 911.0]], ('Pin:', 0.9802665710449219)], [[[211.0, 899.0], [381.0, 899.0], [381.0, 912.0], [211.0, 912.0]], ('Relation with the Deceased*', 0.9749864935874939)], [[[35.0, 920.0], [194.0, 920.0], [194.0, 934.0], [35.0, 934.0]], ('Identity Proof Submitted*', 0.9685882329940796)], [[[429.0, 922.0], [722.0, 922.0], [722.0, 935.0], [429.0, 935.0]], ('(PAN CARD/PASSPORT/DRIVING LICENC /RATION CARD/', 0.9845609664916992)], [[[429.0, 933.0], [724.0, 934.0], [724.0, 947.0], [429.0, 946.0]], ('VOTER ID CARD/PHOTO ID CARD issued by POST OFFICE/', 0.9466370344161987)], [[[432.0, 943.0], [572.0, 944.0], [572.0, 958.0], [432.0, 957.0]], ('GOVT/DEFENCE ID CARD)', 0.9683709740638733)]]\n"
          ]
        }
      ],
      "source": [
        "from paddleocr import PaddleOCR, draw_ocr\n",
        "from ast import literal_eval\n",
        "import json\n",
        "\n",
        "paddleocr = PaddleOCR(lang=\"en\",ocr_version=\"PP-OCRv4\",show_log = False,use_gpu=True)\n",
        "\n",
        "def paddle_scan(paddleocr,img_path_or_nparray):\n",
        "    result = paddleocr.ocr(img_path_or_nparray,cls=True)\n",
        "    result = result[0]\n",
        "    boxes = [line[0] for line in result]       #boundign box\n",
        "    txts = [line[1][0] for line in result]     #raw text\n",
        "    scores = [line[1][1] for line in result]   # scores\n",
        "    return  txts, result\n",
        "\n",
        "# perform ocr scan\n",
        "receipt_texts, receipt_boxes = paddle_scan(paddleocr,input_image_array)\n",
        "print(50*\"--\",\"\\ntext only:\\n\",receipt_texts)\n",
        "print(50*\"--\",\"\\nocr boxes:\\n\",receipt_boxes)"
      ]
    },
    {
      "cell_type": "markdown",
      "metadata": {},
      "source": [
        "As we can see, the OCR has detected all of the text perfectly. Now we will set up Gemma7b and construct a prompt for providing it the context of our task and asking it generate a structured JSON object based on the text data provided and what meaning it is able to infer from it."
      ]
    },
    {
      "cell_type": "code",
      "execution_count": 1,
      "metadata": {
        "colab": {
          "base_uri": "https://localhost:8080/"
        },
        "id": "1mHyDCtzmfgE",
        "outputId": "3f134406-f025-4015-873d-07585cf384ed"
      },
      "outputs": [],
      "source": [
        "import torch\n",
        "# Must install separately since Colab has torch 2.2.1, which breaks packages\n",
        "!pip install \"unsloth[colab-new] @ git+https://github.com/unslothai/unsloth.git\"\n",
        "!pip install --no-deps xformers trl peft accelerate bitsandbytes"
      ]
    },
    {
      "cell_type": "code",
      "execution_count": 7,
      "metadata": {
        "id": "AVSqcCX4miPa"
      },
      "outputs": [],
      "source": [
        "from unsloth import FastLanguageModel\n",
        "import torch\n",
        "max_seq_length = 8192 # Choose any! We auto support RoPE Scaling internally!\n",
        "dtype = None # None for auto detection. Float16 for Tesla T4, V100, Bfloat16 for Ampere+\n",
        "load_in_4bit = True # Use 4bit quantization to reduce memory usage. Can be False."
      ]
    },
    {
      "cell_type": "code",
      "execution_count": 21,
      "metadata": {
        "colab": {
          "base_uri": "https://localhost:8080/"
        },
        "id": "2U_Uw_HgmqGa",
        "outputId": "0ceb209a-e050-49d2-f8da-1d5805ed5cb4"
      },
      "outputs": [
        {
          "name": "stdout",
          "output_type": "stream",
          "text": [
            "==((====))==  Unsloth: Fast Gemma patching release 2024.4\n",
            "   \\\\   /|    GPU: NVIDIA L4. Max memory: 22.168 GB. Platform = Linux.\n",
            "O^O/ \\_/ \\    Pytorch: 2.2.1+cu121. CUDA = 8.9. CUDA Toolkit = 12.1.\n",
            "\\        /    Bfloat16 = TRUE. Xformers = 0.0.25.post1. FA = False.\n",
            " \"-____-\"     Free Apache license: http://github.com/unslothai/unsloth\n"
          ]
        },
        {
          "name": "stderr",
          "output_type": "stream",
          "text": [
            "Unused kwargs: ['_load_in_4bit', '_load_in_8bit', 'quant_method']. These kwargs are not used in <class 'transformers.utils.quantization_config.BitsAndBytesConfig'>.\n"
          ]
        }
      ],
      "source": [
        "model, tokenizer = FastLanguageModel.from_pretrained(\n",
        "    model_name = \"unsloth/gemma-7b-bnb-4bit\", # Choose ANY! eg teknium/OpenHermes-2.5-Mistral-7B\n",
        "    max_seq_length = max_seq_length,\n",
        "    dtype = dtype,\n",
        "    load_in_4bit = load_in_4bit,\n",
        "    # token = \"hf_...\", # use one if using gated models like meta-llama/Llama-2-7b-hf\n",
        ")"
      ]
    },
    {
      "cell_type": "code",
      "execution_count": 16,
      "metadata": {
        "id": "ASsa0aLxmuvs"
      },
      "outputs": [],
      "source": [
        "EOS_TOKEN = tokenizer.eos_token"
      ]
    },
    {
      "cell_type": "code",
      "execution_count": 17,
      "metadata": {
        "id": "iimpb-2Jqtiq"
      },
      "outputs": [],
      "source": [
        "alpaca_prompt = \"\"\"Below is an instruction that describes a task, paired with an input that provides further context. Write a response that appropriately completes the request.\n",
        "\n",
        "### Instruction:\n",
        "{}\n",
        "\n",
        "### Input:\n",
        "{}\n",
        "\n",
        "### Response:\n",
        "{}\"\"\""
      ]
    },
    {
      "cell_type": "code",
      "execution_count": 37,
      "metadata": {
        "id": "KJkn8SZjrcxE"
      },
      "outputs": [],
      "source": [
        "input = receipt_texts\n",
        "input = str(input)"
      ]
    },
    {
      "cell_type": "code",
      "execution_count": 38,
      "metadata": {
        "colab": {
          "base_uri": "https://localhost:8080/"
        },
        "id": "di8T2Tpmm1kr",
        "outputId": "0ffbe75e-88eb-4121-aa3d-9b719e2f0fd8"
      },
      "outputs": [
        {
          "name": "stdout",
          "output_type": "stream",
          "text": [
            "<bos>Below is an instruction that describes a task, paired with an input that provides further context. Write a response that appropriately completes the request.\n",
            "\n",
            "### Instruction:\n",
            "This is the output I got after performing OCR on an image of a form/document. I would like to see if you can understand the different parts of the form and properly GENERATE a structure and convert this into a JSON object\n",
            "\n",
            "### Input:\n",
            "['APPLICATION FORM FOR DEATH CERTIFICATE', 'To', 'The Registrar of Births & Deaths, Municipality, Koraput.', 'Sub:', 'Issue of Death Certificate', 'Sir/Madam,', 'I am submitting here with the following particulars for issue of Death Certificate under section-17.', '.Copy/Copies)', 'For Office use only', 'Registration No.', 'Date of Registration :', 'Application No.', 'Search Fee', 'No.of year', 'Challan Amount:Rs.', 'Challan No:', 'Challan Date.', 'M/R Amount:Rs.', 'M/R No', 'M/R Date', 'Issue No.', 'Issue Date', 'ID No.', 'ID Type ', 'Ortps Ack. No.', 'Date:', '(FILL THE BLANKS USING CAPITAL LETTERS)', 'Date of Death*', '(DD/MM/YYYY)', 'Gender', '(Male/Female)', 'Deceased Name :', 'First Name)', '(Middle Name)', '(Last/Surname)', 'Care of*', 'O Father', 'O Husband', 'Father/Husband Name*', '(First Name)', '(Middle Name)', '(Last/Surname)', 'Deceased Age (In Years)*', 'Age (In Months)', 'Age (In Days)', 'Age (In Hours)', 'PERMANANT ADDRESS', 'Address Line At*', 'Po', 'Police Station:', 'Country*', 'State*', 'District*', 'Pin:', 'Mobile No:', 'email ID:', 'PLACE OF DEATH', 'OHouse', 'OHospital', 'Place of Death*', 'Address Line*At:', 'Po:', 'Police Station:', 'Country*', 'State*', 'District*', 'Pin:', 'INFORMANT/APPLICANT NAME AND ADDRESS:', 'Name*', 'Sex:', 'M/F) O Same as Permanent Address O Others', 'Father /Husband Name*', 'Address Line*At:', 'Po:', 'Police Station', 'Country*', 'State*', 'District*', 'Pin:', 'Relation with the Deceased*', 'Identity Proof Submitted*', '(PAN CARD/PASSPORT/DRIVING LICENC /RATION CARD/', 'VOTER ID CARD/PHOTO ID CARD issued by POST OFFICE/', 'GOVT/DEFENCE ID CARD)']\n",
            "\n",
            "### Response:\n",
            "{\n",
            "  \"Application_Form_for_Death_Certificate\": {\n",
            "    \"To\": \"The Registrar of Births & Deaths, Municipality, Koraput.\",\n",
            "    \"Sub\": \"Issue of Death Certificate\",\n",
            "    \"Sir/Madam\": \"I am submitting here with the following particulars for issue of Death Certificate under section-17.\",\n",
            "    \"For Office use only\": {\n",
            "      \"Registration No\": \"\",\n",
            "      \"Date of Registration\": \"\",\n",
            "      \"Application No\": \"\",\n",
            "      \"Search Fee\": \"\",\n",
            "      \"No.of year\": \"\",\n",
            "      \"Challan Amount\": \"\",\n",
            "      \"Challan No\": \"\",\n",
            "      \"Challan Date\": \"\",\n",
            "      \"M/R Amount\": \"\",\n",
            "      \"M/R No\": \"\",\n",
            "      \"M/R Date\": \"\",\n",
            "      \"Issue No\": \"\",\n",
            "      \"Issue Date\": \"\",\n",
            "      \"ID No\": \"\",\n",
            "      \"ID Type\": \"\",\n",
            "      \"Ortps Ack. No\": \"\",\n",
            "      \"Date\": \"\"\n",
            "    },\n",
            "    \"FILL THE BLANKS USING CAPITAL LETTERS\": \"\",\n",
            "    \"Date of Death\": \"\",\n",
            "    \"Gender\": \"\",\n",
            "    \"Deceased Name\": {\n",
            "      \"First Name\": \"\",\n",
            "      \"Middle Name\": \"\",\n",
            "      \"Last/Surname\": \"\"\n",
            "    },\n",
            "    \"Care of\": {\n",
            "      \"O Father\": \"\",\n",
            "      \"O Husband\": \"\"\n",
            "    },\n",
            "    \"Father/Husband Name\": {\n",
            "      \"First Name\": \"\",\n",
            "      \"Middle Name\": \"\",\n",
            "      \"Last/Surname\": \"\"\n",
            "    },\n",
            "    \"Deceased Age (In Years)\": \"\",\n",
            "    \"Age (In Months)\": \"\",\n",
            "    \"Age (In Days)\": \"\",\n",
            "    \"Age (In Hours)\": \"\",\n",
            "    \"PERMANANT ADDRESS\": {\n",
            "      \"Address Line At\": \"\",\n",
            "      \"Po\": \"\",\n",
            "      \"Police Station\": \"\",\n",
            "      \"Country\": \"\",\n",
            "      \"State\": \"\",\n",
            "      \"District\": \"\",\n",
            "      \"Pin\": \"\"\n",
            "    },\n",
            "    \"Mobile No\": \"\",\n",
            "    \"email ID\": \"\",\n",
            "    \"PLACE OF DEATH\": {\n",
            "      \"OHouse\": \"\",\n",
            "      \"OHospital\": \"\"\n",
            "    },\n",
            "    \"Place of Death\": \"\",\n",
            "    \"Address Line At\": \"\",\n",
            "    \"Po\": \"\",\n",
            "    \"Police Station\": \"\",\n",
            "    \"Country\": \"\",\n",
            "    \"State\": \"\",\n",
            "    \"District\": \"\",\n",
            "    \"Pin\": \"\",\n",
            "    \"INFORMANT/APPLICANT NAME AND ADDRESS\": {\n",
            "      \"Name\": \"\",\n",
            "      \"Sex\": \"\",\n",
            "      \"M/F\": \"\",\n",
            "      \"O Same as Permanent Address\": \"\",\n",
            "      \"O Others\": \"\"\n",
            "    },\n",
            "    \"Father /Husband Name\": {\n",
            "      \"Address Line At\": \"\",\n",
            "      \"Po\": \"\",\n",
            "      \"Police Station\": \"\",\n",
            "      \"Country\": \"\",\n",
            "      \"State\": \"\",\n",
            "      \"District\": \"\",\n",
            "      \"Pin\": \"\"\n",
            "    },\n",
            "    \"Relation with the Deceased\": \"\",\n",
            "    \"Identity Proof Submitted\": {\n",
            "      \"PAN CARD\": \"\",\n",
            "      \"PASSPORT\": \"\",\n",
            "      \"DRIVING LICENC\": \"\",\n",
            "      \"RATION CARD\": \"\",\n",
            "      \"VOTER ID CARD\": \"\",\n",
            "      \"PHOTO ID CARD issued by POST OFFICE\": \"\",\n",
            "      \"GOVT/DEFENCE ID CARD\": \"\"\n",
            "    }\n",
            "  }\n",
            "}<eos>\n"
          ]
        }
      ],
      "source": [
        "FastLanguageModel.for_inference(model) # Enable native 2x faster inference\n",
        "inputs = tokenizer(\n",
        "[\n",
        "    alpaca_prompt.format(\n",
        "        \"This is the output I got after performing OCR on an image of a form/document. I would like to see if you can understand the different parts of the form and properly GENERATE a structure and convert this into a JSON object\", # instruction\n",
        "        input, # input\n",
        "        \"\", # output - leave this blank for generation!\n",
        "    )\n",
        "], return_tensors = \"pt\").to(\"cuda\")\n",
        "\n",
        "from transformers import TextStreamer\n",
        "text_streamer = TextStreamer(tokenizer)\n",
        "_ = model.generate(**inputs, streamer = text_streamer, max_new_tokens = 1000)"
      ]
    },
    {
      "cell_type": "markdown",
      "metadata": {},
      "source": [
        "As we can see, Gemma has appropriately identified the variable names for each of the fields in the form and appropriately assigned them empty strings as well. This will help to indicate to GPT4 which areas of the form still need to be filled. Gemma7b has also identified the heirarchical structure of the form and represented that in the JSON output as well through the use of nested objects, adding further context for GPT4 to be able to understand the document better."
      ]
    },
    {
      "cell_type": "markdown",
      "metadata": {},
      "source": [
        "We try reading another NADRA form through OCR in English and once again achieve great character recognition."
      ]
    },
    {
      "cell_type": "code",
      "execution_count": 44,
      "metadata": {
        "colab": {
          "base_uri": "https://localhost:8080/"
        },
        "id": "V8rVNeomwiR_",
        "outputId": "f7d61cd0-688d-46ef-846b-0a1396b0f8c8"
      },
      "outputs": [
        {
          "name": "stdout",
          "output_type": "stream",
          "text": [
            "[2024/04/25 19:53:30] ppocr WARNING: Since the angle classifier is not initialized, it will not be used during the forward process\n",
            "---------------------------------------------------------------------------------------------------- \n",
            "text only:\n",
            " ['www.wcb.gov.pk', 'THIS FORM IS FOR OFFICE RECORD ONLY AND WILL NOT BE USED AS BIRTH REGISTRATION CERTIFICATE', 'NADRA', \"Applicant's Name\", \"Applicant's CNIC No\", '36', \"Child's Name\", 'Relation', 'Gender', 'Religion', \"Father's Name\", \"Father's CNIC No\", \"Mother's Name\", \"Mother's CNIC No\", 'Distt./Cantt Area of Birth', '1', 'J', 'Aige!', 'Date of Birth', 'Vaccinated', 'Yes', 'No', 'wit', 'Disability', 'Sni.', 'Address', 'District', 'Jiwsis', 'H', 'CBRC NO.ISSUED', 'Form is also available on www.wcb.gov.pk']\n",
            "---------------------------------------------------------------------------------------------------- \n",
            "ocr boxes:\n",
            " [[[[304.0, 13.0], [369.0, 13.0], [369.0, 24.0], [304.0, 24.0]], ('www.wcb.gov.pk', 0.9871886372566223)], [[[33.0, 36.0], [673.0, 36.0], [673.0, 49.0], [33.0, 49.0]], ('THIS FORM IS FOR OFFICE RECORD ONLY AND WILL NOT BE USED AS BIRTH REGISTRATION CERTIFICATE', 0.9533259868621826)], [[[35.0, 101.0], [74.0, 101.0], [74.0, 116.0], [35.0, 116.0]], ('NADRA', 0.995806872844696)], [[[36.0, 141.0], [123.0, 141.0], [123.0, 154.0], [36.0, 154.0]], (\"Applicant's Name\", 0.9894136786460876)], [[[36.0, 178.0], [139.0, 178.0], [139.0, 192.0], [36.0, 192.0]], (\"Applicant's CNIC No\", 0.9629839658737183)], [[[565.0, 174.0], [662.0, 174.0], [662.0, 192.0], [565.0, 192.0]], ('36', 0.5235103964805603)], [[[35.0, 205.0], [102.0, 207.0], [101.0, 222.0], [34.0, 220.0]], (\"Child's Name\", 0.973673403263092)], [[[35.0, 242.0], [77.0, 242.0], [77.0, 257.0], [35.0, 257.0]], ('Relation', 0.9988528490066528)], [[[35.0, 277.0], [72.0, 277.0], [72.0, 292.0], [35.0, 292.0]], ('Gender', 0.9991815090179443)], [[[34.0, 309.0], [78.0, 309.0], [78.0, 324.0], [34.0, 324.0]], ('Religion', 0.9985466003417969)], [[[35.0, 346.0], [107.0, 346.0], [107.0, 360.0], [35.0, 360.0]], (\"Father's Name\", 0.9902032017707825)], [[[35.0, 381.0], [123.0, 381.0], [123.0, 395.0], [35.0, 395.0]], (\"Father's CNIC No\", 0.9858061671257019)], [[[35.0, 413.0], [111.0, 413.0], [111.0, 427.0], [35.0, 427.0]], (\"Mother's Name\", 0.9889407753944397)], [[[35.0, 449.0], [128.0, 449.0], [128.0, 462.0], [35.0, 462.0]], (\"Mother's CNIC No\", 0.9850574135780334)], [[[34.0, 481.0], [154.0, 481.0], [154.0, 494.0], [34.0, 494.0]], ('Distt./Cantt Area of Birth', 0.9633857011795044)], [[[588.0, 473.0], [663.0, 476.0], [662.0, 498.0], [587.0, 495.0]], ('1', 0.5082188844680786)], [[[494.0, 506.0], [545.0, 506.0], [545.0, 532.0], [494.0, 532.0]], ('J', 0.9807032346725464)], [[[619.0, 504.0], [665.0, 508.0], [663.0, 532.0], [617.0, 528.0]], ('Aige!', 0.5485756993293762)], [[[35.0, 517.0], [99.0, 517.0], [99.0, 531.0], [35.0, 531.0]], ('Date of Birth', 0.9876831769943237)], [[[35.0, 552.0], [90.0, 552.0], [90.0, 566.0], [35.0, 566.0]], ('Vaccinated', 0.9940645098686218)], [[[150.0, 548.0], [191.0, 548.0], [191.0, 567.0], [150.0, 567.0]], ('Yes', 0.9735566973686218)], [[[274.0, 552.0], [293.0, 552.0], [293.0, 564.0], [274.0, 564.0]], ('No', 0.8680973052978516)], [[[618.0, 544.0], [666.0, 541.0], [667.0, 563.0], [619.0, 566.0]], ('wit', 0.5236939787864685)], [[[35.0, 583.0], [84.0, 585.0], [83.0, 600.0], [34.0, 598.0]], ('Disability', 0.9947298169136047)], [[[631.0, 584.0], [664.0, 581.0], [665.0, 599.0], [633.0, 601.0]], ('Sni.', 0.6913354396820068)], [[[35.0, 652.0], [77.0, 654.0], [76.0, 669.0], [34.0, 667.0]], ('Address', 0.9974115490913391)], [[[34.0, 688.0], [73.0, 688.0], [73.0, 703.0], [34.0, 703.0]], ('District', 0.9735738039016724)], [[[285.0, 774.0], [423.0, 774.0], [423.0, 794.0], [285.0, 794.0]], ('Jiwsis', 0.5771158337593079)], [[[212.0, 789.0], [291.0, 789.0], [291.0, 807.0], [212.0, 807.0]], ('H', 0.6678815484046936)], [[[511.0, 842.0], [609.0, 842.0], [609.0, 856.0], [511.0, 856.0]], ('CBRC NO.ISSUED', 0.9776390194892883)], [[[36.0, 891.0], [196.0, 891.0], [196.0, 901.0], [36.0, 901.0]], ('Form is also available on www.wcb.gov.pk', 0.9889726638793945)]]\n"
          ]
        }
      ],
      "source": [
        "input_image = Image.open('nadra_b_form.png')\n",
        "input_image_array = np.array(input_image.convert('RGB'))\n",
        "\n",
        "paddleocr = PaddleOCR(lang=\"en\",ocr_version=\"PP-OCRv4\",show_log = False,use_gpu=True)\n",
        "receipt_texts, receipt_boxes = paddle_scan(paddleocr,input_image_array)\n",
        "print(50*\"--\",\"\\ntext only:\\n\",receipt_texts)\n",
        "print(50*\"--\",\"\\nocr boxes:\\n\",receipt_boxes)"
      ]
    },
    {
      "cell_type": "markdown",
      "metadata": {},
      "source": [
        "Lastly, through PaddleOCR, we try reading a NADRA form entirely in Urdu."
      ]
    },
    {
      "cell_type": "code",
      "execution_count": 48,
      "metadata": {
        "colab": {
          "base_uri": "https://localhost:8080/"
        },
        "id": "FVoRqjd00bWv",
        "outputId": "3a5e5f95-8df0-4204-89d4-9a68c2a908da"
      },
      "outputs": [
        {
          "name": "stdout",
          "output_type": "stream",
          "text": [
            "[2024/04/25 19:58:22] ppocr WARNING: Since the angle classifier is not initialized, it will not be used during the forward process\n",
            "---------------------------------------------------------------------------------------------------- \n",
            "text only:\n",
            " ['.p٧Aw.wcbgo', 'THIS', 'FORM', 'FOR', 'OFFICE', 'RECORD', 'ONLY', 'ND', 'WILL NOT', ' E', 'USED', 'BIRTH', 'REGISTRATION', 'CERTIFICATE', 'نشيرسجر', 'هترب زئارثويمك', 'رئارب مراف', 'تساوخرد', 'CBW', ' اا', 'AD', \"Aplicant's Name\", 'ماكد  تساوخرو', ' C Aliat', 'مىاوا', \"Chid's Namc\", 'Rclati', 'Gender', 'ب', 'Religion', 'بج ', \"Fatther's Nammec.\", 'ماكلو', \"Fther's CNC No\", 'مرداك ىىاشثاكدلاو', \"Mother's Namme\", 'مااكودلاو', 's CNIC NoMhcr', 'ميرداك ىاش كودلاو', 'يقداج /علض تاد', 'Dis', 'a', 'Ara of Birth', 'ر', 'لتب', 'أري ةاب', 'Date of Birh', 'ي', 'Vaccinated', ' Yes', '٥N', 'جادردأ ر', 'Disability', 'ىرورحم', 'Addres', 'District', 'رات', 'ودجو ماخرو تم', 'ىرتفد', 'رئارب', 'يرات', 'ء', 'سوك نم ', 'CBR NO', 'ISSUED', '.pk,wcb go,Fom is also available on www', 'نار لشخ ']\n",
            "---------------------------------------------------------------------------------------------------- \n",
            "ocr boxes:\n",
            " [[[[304.0, 13.0], [368.0, 13.0], [368.0, 24.0], [304.0, 24.0]], ('.p٧Aw.wcbgo', 0.6774969100952148)], [[[33.0, 36.0], [63.0, 36.0], [63.0, 50.0], [33.0, 50.0]], ('THIS', 0.8161212205886841)], [[[64.0, 37.0], [103.0, 37.0], [103.0, 48.0], [64.0, 48.0]], ('FORM', 0.990170955657959)], [[[116.0, 36.0], [146.0, 36.0], [146.0, 50.0], [116.0, 50.0]], ('FOR', 0.6986364722251892)], [[[147.0, 36.0], [193.0, 36.0], [193.0, 50.0], [147.0, 50.0]], ('OFFICE', 0.835599422454834)], [[[195.0, 36.0], [248.0, 36.0], [248.0, 50.0], [195.0, 50.0]], ('RECORD', 0.8501927256584167)], [[[248.0, 36.0], [285.0, 36.0], [285.0, 50.0], [248.0, 50.0]], ('ONLY', 0.9564117789268494)], [[[287.0, 37.0], [315.0, 37.0], [315.0, 50.0], [287.0, 50.0]], ('ND', 0.9872561693191528)], [[[317.0, 36.0], [380.0, 36.0], [380.0, 50.0], [317.0, 50.0]], ('WILL NOT', 0.8637099266052246)], [[[379.0, 37.0], [399.0, 37.0], [399.0, 49.0], [379.0, 49.0]], (' E', 0.559194803237915)], [[[399.0, 36.0], [437.0, 36.0], [437.0, 50.0], [399.0, 50.0]], ('USED', 0.8363439440727234)], [[[455.0, 36.0], [495.0, 36.0], [495.0, 50.0], [455.0, 50.0]], ('BIRTH', 0.8446434736251831)], [[[497.0, 36.0], [592.0, 36.0], [592.0, 50.0], [497.0, 50.0]], ('REGISTRATION', 0.9793297648429871)], [[[593.0, 36.0], [672.0, 36.0], [672.0, 50.0], [593.0, 50.0]], ('CERTIFICATE', 0.9536579251289368)], [[[166.0, 79.0], [247.0, 79.0], [247.0, 103.0], [166.0, 103.0]], ('نشيرسجر', 0.9290791749954224)], [[[250.0, 75.0], [381.0, 75.0], [381.0, 103.0], [250.0, 103.0]], ('هترب زئارثويمك', 0.8579006791114807)], [[[385.0, 76.0], [470.0, 76.0], [470.0, 104.0], [385.0, 104.0]], ('رئارب مراف', 0.8985344171524048)], [[[461.0, 78.0], [545.0, 78.0], [545.0, 102.0], [461.0, 102.0]], ('تساوخرد', 0.9294869303703308)], [[[621.0, 73.0], [658.0, 71.0], [659.0, 84.0], [622.0, 86.0]], ('CBW', 0.7156783938407898)], [[[625.0, 85.0], [659.0, 85.0], [659.0, 95.0], [625.0, 95.0]], (' اا', 0.5441859364509583)], [[[38.0, 103.0], [70.0, 103.0], [70.0, 113.0], [38.0, 113.0]], ('AD', 0.9440677165985107)], [[[37.0, 141.0], [122.0, 139.0], [122.0, 153.0], [37.0, 155.0]], (\"Aplicant's Name\", 0.8817182779312134)], [[[594.0, 140.0], [662.0, 137.0], [663.0, 154.0], [595.0, 157.0]], ('ماكد  تساوخرو', 0.6983916163444519)], [[[37.0, 178.0], [139.0, 178.0], [139.0, 192.0], [37.0, 192.0]], (' C Aliat', 0.7148686051368713)], [[[563.0, 172.0], [663.0, 175.0], [662.0, 193.0], [563.0, 190.0]], ('مىاوا', 0.5358606576919556)], [[[36.0, 206.0], [102.0, 208.0], [101.0, 222.0], [35.0, 220.0]], (\"Chid's Namc\", 0.8547068238258362)], [[[35.0, 241.0], [76.0, 243.0], [75.0, 257.0], [34.0, 255.0]], ('Rclati', 0.8712963461875916)], [[[35.0, 277.0], [71.0, 277.0], [71.0, 292.0], [35.0, 292.0]], ('Gender', 0.9697043299674988)], [[[646.0, 277.0], [663.0, 277.0], [663.0, 296.0], [646.0, 296.0]], ('ب', 0.999840259552002)], [[[35.0, 310.0], [77.0, 310.0], [77.0, 324.0], [35.0, 324.0]], ('Religion', 0.9074614644050598)], [[[642.0, 309.0], [662.0, 309.0], [662.0, 325.0], [642.0, 325.0]], ('بج ', 0.866862952709198)], [[[36.0, 347.0], [105.0, 347.0], [105.0, 358.0], [36.0, 358.0]], (\"Fatther's Nammec.\", 0.8082656860351562)], [[[630.0, 345.0], [661.0, 343.0], [662.0, 358.0], [632.0, 361.0]], ('ماكلو', 0.7695114016532898)], [[[36.0, 382.0], [123.0, 382.0], [123.0, 395.0], [36.0, 395.0]], (\"Fther's CNC No\", 0.8297218084335327)], [[[600.0, 378.0], [663.0, 378.0], [663.0, 396.0], [600.0, 396.0]], ('مرداك ىىاشثاكدلاو', 0.676969051361084)], [[[37.0, 415.0], [110.0, 415.0], [110.0, 426.0], [37.0, 426.0]], (\"Mother's Namme\", 0.8789845705032349)], [[[626.0, 413.0], [662.0, 409.0], [664.0, 427.0], [628.0, 431.0]], ('مااكودلاو', 0.7586796879768372)], [[[35.0, 449.0], [128.0, 449.0], [128.0, 462.0], [35.0, 462.0]], ('s CNIC NoMhcr', 0.7934837937355042)], [[[593.0, 444.0], [663.0, 441.0], [664.0, 462.0], [594.0, 465.0]], ('ميرداك ىاش كودلاو', 0.5419636368751526)], [[[590.0, 473.0], [662.0, 476.0], [661.0, 497.0], [589.0, 494.0]], ('يقداج /علض تاد', 0.5224841833114624)], [[[37.0, 484.0], [62.0, 484.0], [62.0, 493.0], [37.0, 493.0]], ('Dis', 0.8274178504943848)], [[[63.0, 483.0], [92.0, 483.0], [92.0, 494.0], [63.0, 494.0]], ('a', 0.8362469673156738)], [[[93.0, 483.0], [155.0, 483.0], [155.0, 494.0], [93.0, 494.0]], ('Ara of Birth', 0.8680428862571716)], [[[401.0, 508.0], [445.0, 508.0], [445.0, 530.0], [401.0, 530.0]], ('ر', 0.5479987263679504)], [[[495.0, 508.0], [542.0, 508.0], [542.0, 531.0], [495.0, 531.0]], ('لتب', 0.8971967697143555)], [[[618.0, 506.0], [664.0, 509.0], [663.0, 531.0], [617.0, 528.0]], ('أري ةاب', 0.6148109436035156)], [[[36.0, 519.0], [98.0, 519.0], [98.0, 530.0], [36.0, 530.0]], ('Date of Birh', 0.9060131907463074)], [[[336.0, 516.0], [364.0, 516.0], [364.0, 529.0], [336.0, 529.0]], ('ي', 0.5155150890350342)], [[[37.0, 553.0], [87.0, 553.0], [87.0, 564.0], [37.0, 564.0]], ('Vaccinated', 0.9588634371757507)], [[[149.0, 548.0], [192.0, 548.0], [192.0, 570.0], [149.0, 570.0]], (' Yes', 0.9468055367469788)], [[[252.0, 550.0], [295.0, 550.0], [295.0, 569.0], [252.0, 569.0]], ('٥N', 0.9371516704559326)], [[[619.0, 545.0], [663.0, 543.0], [664.0, 562.0], [620.0, 564.0]], ('جادردأ ر', 0.6022167205810547)], [[[37.0, 583.0], [83.0, 585.0], [82.0, 599.0], [36.0, 597.0]], ('Disability', 0.9337118864059448)], [[[634.0, 584.0], [662.0, 584.0], [662.0, 599.0], [634.0, 599.0]], ('ىرورحم', 0.9178743362426758)], [[[36.0, 654.0], [75.0, 654.0], [75.0, 668.0], [36.0, 668.0]], ('Addres', 0.8016001582145691)], [[[35.0, 689.0], [73.0, 689.0], [73.0, 703.0], [35.0, 703.0]], ('District', 0.9030439257621765)], [[[340.0, 730.0], [361.0, 730.0], [361.0, 746.0], [340.0, 746.0]], ('رات', 0.7733154892921448)], [[[594.0, 732.0], [661.0, 729.0], [662.0, 744.0], [595.0, 746.0]], ('ودجو ماخرو تم', 0.626270592212677)], [[[341.0, 774.0], [391.0, 774.0], [391.0, 796.0], [341.0, 796.0]], ('ىرتفد', 0.9868192672729492)], [[[390.0, 774.0], [425.0, 774.0], [425.0, 797.0], [390.0, 797.0]], ('رئارب', 0.940475344657898)], [[[115.0, 790.0], [137.0, 790.0], [137.0, 807.0], [115.0, 807.0]], ('يرات', 0.8434640169143677)], [[[637.0, 784.0], [667.0, 784.0], [667.0, 803.0], [637.0, 803.0]], ('ء', 0.6871170997619629)], [[[252.0, 835.0], [289.0, 835.0], [289.0, 855.0], [252.0, 855.0]], ('سوك نم ', 0.5270904302597046)], [[[511.0, 841.0], [565.0, 843.0], [565.0, 857.0], [511.0, 855.0]], ('CBR NO', 0.8988845348358154)], [[[566.0, 844.0], [608.0, 844.0], [608.0, 854.0], [566.0, 854.0]], ('ISSUED', 0.8268620371818542)], [[[34.0, 889.0], [197.0, 889.0], [197.0, 902.0], [34.0, 902.0]], ('.pk,wcb go,Fom is also available on www', 0.8754852414131165)], [[[289.0, 883.0], [426.0, 880.0], [427.0, 912.0], [290.0, 915.0]], ('نار لشخ ', 0.6683014035224915)]]\n"
          ]
        }
      ],
      "source": [
        "input_image = Image.open('urdu_form.jpeg')\n",
        "input_image_array = np.array(input_image.convert('RGB'))\n",
        "\n",
        "paddleocr = PaddleOCR(lang=\"ur\",ocr_version=\"PP-OCRv4\",show_log = False,use_gpu=True)\n",
        "receipt_texts, receipt_boxes = paddle_scan(paddleocr,input_image_array)\n",
        "print(50*\"--\",\"\\ntext only:\\n\",receipt_texts)\n",
        "print(50*\"--\",\"\\nocr boxes:\\n\",receipt_boxes)"
      ]
    },
    {
      "cell_type": "markdown",
      "metadata": {},
      "source": [
        "However this time, we see really bad results. Even though PaddleOCR is a state of the art OCR interface, we see it heavily struggles with identifying Urdu characters and outputting coherent, intact sentences. This is probably due to the specific lack of Urdu training data present when PaddleOCR was being trained. Unfortunately, this forces us to abandon the idea of using OCR technologies for structing Urdu text, and rely on the image perceptual capabilities of GPT4 alone."
      ]
    }
  ],
  "metadata": {
    "accelerator": "GPU",
    "colab": {
      "gpuType": "L4",
      "machine_shape": "hm",
      "provenance": []
    },
    "kernelspec": {
      "display_name": "Python 3",
      "name": "python3"
    },
    "language_info": {
      "codemirror_mode": {
        "name": "ipython",
        "version": 3
      },
      "file_extension": ".py",
      "mimetype": "text/x-python",
      "name": "python",
      "nbconvert_exporter": "python",
      "pygments_lexer": "ipython3",
      "version": "3.11.5"
    }
  },
  "nbformat": 4,
  "nbformat_minor": 0
}
